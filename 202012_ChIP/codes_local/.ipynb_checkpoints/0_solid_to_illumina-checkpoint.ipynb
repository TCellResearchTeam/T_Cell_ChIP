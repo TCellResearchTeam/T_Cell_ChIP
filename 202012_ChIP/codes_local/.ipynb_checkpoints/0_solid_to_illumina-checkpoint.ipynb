{
 "cells": [
  {
   "cell_type": "markdown",
   "metadata": {},
   "source": [
    "## Solid sequence conversion\n",
    "[Reference](https://www.biostars.org/p/43855/)\n",
    "\n",
    "AA, CC, GG, TT : 0 <br>\n",
    "AC, CA, GT, TG : 1 <br>\n",
    "AG, CT, GA, TC : 2 <br>\n",
    "AT, CG, GC, TA : 3\n"
   ]
  },
  {
   "cell_type": "code",
   "execution_count": 1,
   "metadata": {},
   "outputs": [],
   "source": [
    "solid_dict = {'0':[\"AA\",\"CC\",\"GG\",\"TT\"],\n",
    "             '1':[\"AC\", \"CA\", \"GT\", \"TG\"],\n",
    "             '2':[\"AG\", \"CT\",\"GA\",\"TC\"],\n",
    "             '3':[\"AT\",\"CG\",\"GC\",\"TA\"]}"
   ]
  },
  {
   "cell_type": "code",
   "execution_count": 9,
   "metadata": {},
   "outputs": [],
   "source": [
    "solid_dict_first = {'0':[\"A\",\"C\",\"G\",\"T\"],\n",
    "             '1':[\"A\", \"C\", \"G\", \"T\"],\n",
    "             '2':[\"A\", \"C\",\"G\",\"T\"],\n",
    "             '3':[\"A\",\"C\",\"G\",\"T\"]}\n",
    "solid_dict_second = {'0':[\"A\",\"C\",\"G\",\"T\"],\n",
    "             '1':[\"C\", \"A\", \"T\", \"G\"],\n",
    "             '2':[\"G\", \"T\",\"A\",\"C\"],\n",
    "             '3':[\"T\",\"G\",\"C\",\"A\"]}"
   ]
  },
  {
   "cell_type": "code",
   "execution_count": 1,
   "metadata": {},
   "outputs": [],
   "source": [
    "def solid_to_seq(solid_seq):\n",
    "    solid_seq_list = list(solid_seq)[1:]\n",
    "    start_char = solid_seq[0]\n",
    "    first_char = start_char\n",
    "\n",
    "    seq_list = []\n",
    "    for i in solid_seq_list:\n",
    "        ### If previous nucleotide is unknown\n",
    "        if first_char == \".\":\n",
    "            seq_list.append(\"N\")\n",
    "            first_char = \".\"\n",
    "        ### If previous nucleotide is known\n",
    "        else:\n",
    "            # Get positition of second nucleotide\n",
    "            second_pos = [\"A\",\"C\",\"G\",\"T\"].index(first_char)\n",
    "            if i != \".\":\n",
    "                second_char = solid_dict_second[i][second_pos]\n",
    "                seq_list.append(second_char)\n",
    "            else:\n",
    "                second_char = \".\"\n",
    "                seq_list.append(\"N\")\n",
    "            first_char = second_char"
   ]
  },
  {
   "cell_type": "code",
   "execution_count": 47,
   "metadata": {},
   "outputs": [],
   "source": [
    "solid_seq =  \"T3231110.122321002.0011.0012.2213..2\"\n"
   ]
  }
 ],
 "metadata": {
  "kernelspec": {
   "display_name": "Python 3",
   "language": "python",
   "name": "python3"
  },
  "language_info": {
   "codemirror_mode": {
    "name": "ipython",
    "version": 3
   },
   "file_extension": ".py",
   "mimetype": "text/x-python",
   "name": "python",
   "nbconvert_exporter": "python",
   "pygments_lexer": "ipython3",
   "version": "3.6.8"
  }
 },
 "nbformat": 4,
 "nbformat_minor": 4
}
