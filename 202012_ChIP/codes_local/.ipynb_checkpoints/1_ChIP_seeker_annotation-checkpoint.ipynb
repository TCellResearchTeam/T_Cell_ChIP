{
 "cells": [
  {
   "cell_type": "code",
   "execution_count": 2,
   "metadata": {},
   "outputs": [],
   "source": [
    "library(ChIPseeker)\n",
    "library(clusterProfiler)\n",
    "library(GenomicFeatures)\n",
    "library(AnnotationDbi)\n",
    "library(TxDb.Mmusculus.UCSC.mm10.knownGene)\n",
    "library(ReactomePA)\n",
    "library(tidyverse)\n",
    "\n",
    "txdb <- TxDb.Mmusculus.UCSC.mm10.knownGene\n",
    "promoter <- getPromoters(TxDb=txdb, upstream=5000, downstream=5000)\n",
    "\n",
    "if (! exists(\"code.dir\")) {\n",
    "    code.dir <- getwd()\n",
    "    out.dir <- gsub(\"codes_local\", \"3_peak_annotations\", code.dir)\n",
    "}"
   ]
  },
  {
   "cell_type": "code",
   "execution_count": 3,
   "metadata": {},
   "outputs": [],
   "source": [
    "input.dir <- '/media/pipkin/Rocket2/T_Cell_ChIP/202012_ChIP/2_MACS2'\n",
    "input.peak.files <- list.files(path=input.dir, patter='narrowPeak.chr.bed',full.name=TRUE)\n",
    "\n",
    "bp.range <- c(-5000, 5000)\n",
    "attempted <- c()"
   ]
  },
  {
   "cell_type": "code",
   "execution_count": 24,
   "metadata": {},
   "outputs": [
    {
     "name": "stdout",
     "output_type": "stream",
     "text": [
      "[1] 94\n",
      "[1] 88\n"
     ]
    }
   ],
   "source": [
    "print(length(input.peak.files))\n",
    "print(length(attempted))"
   ]
  },
  {
   "cell_type": "code",
   "execution_count": 31,
   "metadata": {
    "scrolled": true
   },
   "outputs": [
    {
     "name": "stdout",
     "output_type": "stream",
     "text": [
      "[1] \"-----------\"\n",
      "[1] \"2019_IMMUNITY_Veeken___Eomes_LCMV-d07-CD8\"\n"
     ]
    },
    {
     "name": "stderr",
     "output_type": "stream",
     "text": [
      "Saving 13.3 x 13.3 in image\n",
      "\n"
     ]
    },
    {
     "name": "stdout",
     "output_type": "stream",
     "text": [
      ">> loading peak file...\t\t\t\t 2021-01-18 11:04:28 AM \n",
      ">> preparing features information...\t\t 2021-01-18 11:04:28 AM \n",
      ">> identifying nearest features...\t\t 2021-01-18 11:04:28 AM \n",
      ">> calculating distance from peak to TSS...\t 2021-01-18 11:04:29 AM \n",
      ">> assigning genomic annotation...\t\t 2021-01-18 11:04:29 AM \n",
      ">> adding gene annotation...\t\t\t 2021-01-18 11:04:31 AM \n"
     ]
    },
    {
     "name": "stderr",
     "output_type": "stream",
     "text": [
      "'select()' returned 1:many mapping between keys and columns\n",
      "\n"
     ]
    },
    {
     "name": "stdout",
     "output_type": "stream",
     "text": [
      ">> assigning chromosome lengths\t\t\t 2021-01-18 11:04:31 AM \n",
      ">> done...\t\t\t\t\t 2021-01-18 11:04:31 AM \n"
     ]
    },
    {
     "name": "stderr",
     "output_type": "stream",
     "text": [
      "Saving 13.3 x 13.3 in image\n",
      "\n"
     ]
    },
    {
     "name": "stdout",
     "output_type": "stream",
     "text": [
      "[1] \"-----------\"\n",
      "[1] \"2019_IMMUNITY_Veeken___Tbet_LCMV-d07-CD8\"\n",
      "[1] \"-----------\"\n",
      "[1] \"2020_PNAS_KwesiMaliepaard___H3K4me3_mem-CD8\"\n"
     ]
    },
    {
     "name": "stderr",
     "output_type": "stream",
     "text": [
      "Saving 13.3 x 13.3 in image\n",
      "\n"
     ]
    },
    {
     "name": "stdout",
     "output_type": "stream",
     "text": [
      ">> loading peak file...\t\t\t\t 2021-01-18 11:05:37 AM \n",
      ">> preparing features information...\t\t 2021-01-18 11:05:38 AM \n",
      ">> identifying nearest features...\t\t 2021-01-18 11:05:38 AM \n",
      ">> calculating distance from peak to TSS...\t 2021-01-18 11:05:39 AM \n",
      ">> assigning genomic annotation...\t\t 2021-01-18 11:05:39 AM \n",
      ">> adding gene annotation...\t\t\t 2021-01-18 11:05:41 AM \n"
     ]
    },
    {
     "name": "stderr",
     "output_type": "stream",
     "text": [
      "'select()' returned 1:many mapping between keys and columns\n",
      "\n"
     ]
    },
    {
     "name": "stdout",
     "output_type": "stream",
     "text": [
      ">> assigning chromosome lengths\t\t\t 2021-01-18 11:05:41 AM \n",
      ">> done...\t\t\t\t\t 2021-01-18 11:05:41 AM \n"
     ]
    },
    {
     "name": "stderr",
     "output_type": "stream",
     "text": [
      "Saving 13.3 x 13.3 in image\n",
      "\n"
     ]
    },
    {
     "name": "stdout",
     "output_type": "stream",
     "text": [
      "[1] \"-----------\"\n",
      "[1] \"2020_PNAS_KwesiMaliepaard___H3K79me2_mem-CD8\"\n"
     ]
    },
    {
     "name": "stderr",
     "output_type": "stream",
     "text": [
      "Saving 13.3 x 13.3 in image\n",
      "\n"
     ]
    },
    {
     "name": "stdout",
     "output_type": "stream",
     "text": [
      ">> loading peak file...\t\t\t\t 2021-01-18 11:06:26 AM \n",
      ">> preparing features information...\t\t 2021-01-18 11:06:27 AM \n",
      ">> identifying nearest features...\t\t 2021-01-18 11:06:27 AM \n",
      ">> calculating distance from peak to TSS...\t 2021-01-18 11:06:27 AM \n",
      ">> assigning genomic annotation...\t\t 2021-01-18 11:06:27 AM \n",
      ">> adding gene annotation...\t\t\t 2021-01-18 11:06:29 AM \n"
     ]
    },
    {
     "name": "stderr",
     "output_type": "stream",
     "text": [
      "'select()' returned 1:many mapping between keys and columns\n",
      "\n"
     ]
    },
    {
     "name": "stdout",
     "output_type": "stream",
     "text": [
      ">> assigning chromosome lengths\t\t\t 2021-01-18 11:06:29 AM \n",
      ">> done...\t\t\t\t\t 2021-01-18 11:06:29 AM \n"
     ]
    },
    {
     "name": "stderr",
     "output_type": "stream",
     "text": [
      "Saving 13.3 x 13.3 in image\n",
      "\n"
     ]
    },
    {
     "name": "stdout",
     "output_type": "stream",
     "text": [
      "[1] \"-----------\"\n",
      "[1] \"2020_PNAS_KwesiMaliepaard___H3K79me2_naive-CD8\"\n"
     ]
    },
    {
     "name": "stderr",
     "output_type": "stream",
     "text": [
      "Saving 13.3 x 13.3 in image\n",
      "\n"
     ]
    },
    {
     "name": "stdout",
     "output_type": "stream",
     "text": [
      ">> loading peak file...\t\t\t\t 2021-01-18 11:07:18 AM \n",
      ">> preparing features information...\t\t 2021-01-18 11:07:18 AM \n",
      ">> identifying nearest features...\t\t 2021-01-18 11:07:18 AM \n",
      ">> calculating distance from peak to TSS...\t 2021-01-18 11:07:19 AM \n",
      ">> assigning genomic annotation...\t\t 2021-01-18 11:07:19 AM \n",
      ">> adding gene annotation...\t\t\t 2021-01-18 11:07:21 AM \n"
     ]
    },
    {
     "name": "stderr",
     "output_type": "stream",
     "text": [
      "'select()' returned 1:many mapping between keys and columns\n",
      "\n"
     ]
    },
    {
     "name": "stdout",
     "output_type": "stream",
     "text": [
      ">> assigning chromosome lengths\t\t\t 2021-01-18 11:07:21 AM \n",
      ">> done...\t\t\t\t\t 2021-01-18 11:07:21 AM \n"
     ]
    },
    {
     "name": "stderr",
     "output_type": "stream",
     "text": [
      "Saving 13.3 x 13.3 in image\n",
      "\n"
     ]
    }
   ],
   "source": [
    "for (file.i in input.peak.files[90:94]){\n",
    "    if (!(file.i %in% attempted)) {\n",
    "        attempted <- c(attempted, file.i)\n",
    "        i <- gsub(\"_peaks.narrowPeak.chr.bed\",\"\", basename(file.i))\n",
    "        print(\"-----------\")\n",
    "        print(i)\n",
    "        peak.i <- readPeakFile(file.i)\n",
    "        \n",
    "        if (length(peak.i@ranges@start) > 200) {\n",
    "            #----- Coverage\n",
    "            covplot.i <- covplot(peak.i, weightCol=\"V5\")\n",
    "            plot.name.i <- file.path(out.dir, paste(i, \"covPlot.png\", sep=\"_\"))\n",
    "            ggsave(plot.name.i, covplot.i, device='png', scale=2)\n",
    "\n",
    "            #----- TagMatrix\n",
    "            tagMatrix.i <- getTagMatrix(peak.i, windows=promoter)\n",
    "\n",
    "            plot.name.i <- file.path(out.dir, paste(i, \"tagMatrix.jpg\", sep=\"_\"))\n",
    "            jpeg(filename=plot.name.i,width=400,height=600)\n",
    "            tagHeatmap(tagMatrix.i, xlim=bp.range, color=NULL)\n",
    "            dev.off()\n",
    "\n",
    "            #----- Average Prof\n",
    "            #avgprof.plot.i <- plotAvgProf(tagMatrix.i, xlim=bp.range, conf=0.95, resample = 1000)\n",
    "            #plot.name.i <- file.path(out.dir, paste(i, \"avgProfPlot.png\", sep=\"_\"))\n",
    "            #ggsave(plot.name.i, avgprof.plot.i, device='png', scale=1)\n",
    "\n",
    "            #----- Peak Annotateion\n",
    "            peakAnno <- annotatePeak(file.i, tssRegion=bp.range, TxDb=txdb, annoDb=\"org.Mm.eg.db\")\n",
    "            peakAnno.df <- as.data.frame(peakAnno)\n",
    "            df.name.i <- file.path(out.dir, paste(i, \"annoDf.csv\", sep=\"_\"))\n",
    "            write_csv(peakAnno.df, df.name.i)\n",
    "\n",
    "            #----- Annotation Pie Chart\n",
    "            plot.name.i <- file.path(out.dir, paste(i, \"annoPiePlot.jpg\", sep=\"_\"))\n",
    "            jpeg(filename=plot.name.i,width=480,height=480)\n",
    "            plotAnnoPie(peakAnno)\n",
    "            dev.off()\n",
    "\n",
    "            #----- Pathway Analysis\n",
    "            pathway.i <- enrichPathway(peakAnno.df$geneId, organism='mouse')\n",
    "            df.name.i <- file.path(out.dir, paste(i, \"pathway.csv\", sep=\"_\"))\n",
    "            write_csv(as.data.frame(pathway.i), df.name.i)\n",
    "\n",
    "            pathway.plot.i <- dotplot(pathway.i)\n",
    "            plot.name.i <- file.path(out.dir, paste(i, \"pathwayDotPlot.png\", sep=\"_\"))\n",
    "            ggsave(plot.name.i, pathway.plot.i, device='png', scale=2)\n",
    "        }    \n",
    "    }\n",
    "}"
   ]
  },
  {
   "cell_type": "code",
   "execution_count": null,
   "metadata": {},
   "outputs": [],
   "source": []
  }
 ],
 "metadata": {
  "kernelspec": {
   "display_name": "R",
   "language": "R",
   "name": "ir"
  },
  "language_info": {
   "codemirror_mode": "r",
   "file_extension": ".r",
   "mimetype": "text/x-r-source",
   "name": "R",
   "pygments_lexer": "r",
   "version": "3.6.3"
  }
 },
 "nbformat": 4,
 "nbformat_minor": 4
}
