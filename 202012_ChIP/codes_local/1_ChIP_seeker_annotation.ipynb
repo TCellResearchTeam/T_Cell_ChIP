{
 "cells": [
  {
   "cell_type": "code",
   "execution_count": 3,
   "metadata": {},
   "outputs": [],
   "source": [
    "library(ChIPseeker)\n",
    "library(clusterProfiler)\n",
    "library(GenomicFeatures)\n",
    "library(AnnotationDbi)\n",
    "library(TxDb.Mmusculus.UCSC.mm10.knownGene)\n",
    "library(ReactomePA)\n",
    "library(tidyverse)\n",
    "\n",
    "txdb <- TxDb.Mmusculus.UCSC.mm10.knownGene\n",
    "promoter <- getPromoters(TxDb=txdb, upstream=5000, downstream=5000)\n",
    "\n",
    "if (! exists(\"code.dir\")) {\n",
    "    code.dir <- getwd()\n",
    "    out.dir <- gsub(\"codes_local\", \"3_peak_annotations\", code.dir)\n",
    "}"
   ]
  },
  {
   "cell_type": "code",
   "execution_count": 11,
   "metadata": {},
   "outputs": [],
   "source": [
    "input.dir <- '/media/pipkin/Rocket2/T_Cell_ChIP/202012_ChIP/2_MACS2'\n",
    "input.peak.files <- list.files(path=input.dir, patter='narrowPeak.chr.bed',full.name=TRUE)\n",
    "\n",
    "bp.range <- c(-5000, 5000)\n",
    "attempted <- c()"
   ]
  },
  {
   "cell_type": "code",
   "execution_count": 12,
   "metadata": {},
   "outputs": [
    {
     "data": {
      "text/html": [
       "<style>\n",
       ".list-inline {list-style: none; margin:0; padding: 0}\n",
       ".list-inline>li {display: inline-block}\n",
       ".list-inline>li:not(:last-child)::after {content: \"\\00b7\"; padding: 0 .5ex}\n",
       "</style>\n",
       "<ol class=list-inline><li>'/media/pipkin/Rocket2/T_Cell_ChIP/202012_ChIP/2_MACS2/2021_GoldrathLab_Brd4___BRD4_MP-CD8_peaks.narrowPeak.chr.bed'</li><li>'/media/pipkin/Rocket2/T_Cell_ChIP/202012_ChIP/2_MACS2/2021_GoldrathLab_Brd4___BRD4_NAV-CD8_peaks.narrowPeak.chr.bed'</li><li>'/media/pipkin/Rocket2/T_Cell_ChIP/202012_ChIP/2_MACS2/2021_GoldrathLab_Brd4___BRD4_TE-CD8_peaks.narrowPeak.chr.bed'</li></ol>\n"
      ],
      "text/latex": [
       "\\begin{enumerate*}\n",
       "\\item '/media/pipkin/Rocket2/T\\_Cell\\_ChIP/202012\\_ChIP/2\\_MACS2/2021\\_GoldrathLab\\_Brd4\\_\\_\\_BRD4\\_MP-CD8\\_peaks.narrowPeak.chr.bed'\n",
       "\\item '/media/pipkin/Rocket2/T\\_Cell\\_ChIP/202012\\_ChIP/2\\_MACS2/2021\\_GoldrathLab\\_Brd4\\_\\_\\_BRD4\\_NAV-CD8\\_peaks.narrowPeak.chr.bed'\n",
       "\\item '/media/pipkin/Rocket2/T\\_Cell\\_ChIP/202012\\_ChIP/2\\_MACS2/2021\\_GoldrathLab\\_Brd4\\_\\_\\_BRD4\\_TE-CD8\\_peaks.narrowPeak.chr.bed'\n",
       "\\end{enumerate*}\n"
      ],
      "text/markdown": [
       "1. '/media/pipkin/Rocket2/T_Cell_ChIP/202012_ChIP/2_MACS2/2021_GoldrathLab_Brd4___BRD4_MP-CD8_peaks.narrowPeak.chr.bed'\n",
       "2. '/media/pipkin/Rocket2/T_Cell_ChIP/202012_ChIP/2_MACS2/2021_GoldrathLab_Brd4___BRD4_NAV-CD8_peaks.narrowPeak.chr.bed'\n",
       "3. '/media/pipkin/Rocket2/T_Cell_ChIP/202012_ChIP/2_MACS2/2021_GoldrathLab_Brd4___BRD4_TE-CD8_peaks.narrowPeak.chr.bed'\n",
       "\n",
       "\n"
      ],
      "text/plain": [
       "[1] \"/media/pipkin/Rocket2/T_Cell_ChIP/202012_ChIP/2_MACS2/2021_GoldrathLab_Brd4___BRD4_MP-CD8_peaks.narrowPeak.chr.bed\" \n",
       "[2] \"/media/pipkin/Rocket2/T_Cell_ChIP/202012_ChIP/2_MACS2/2021_GoldrathLab_Brd4___BRD4_NAV-CD8_peaks.narrowPeak.chr.bed\"\n",
       "[3] \"/media/pipkin/Rocket2/T_Cell_ChIP/202012_ChIP/2_MACS2/2021_GoldrathLab_Brd4___BRD4_TE-CD8_peaks.narrowPeak.chr.bed\" "
      ]
     },
     "metadata": {},
     "output_type": "display_data"
    }
   ],
   "source": [
    "input.peak.files <- input.peak.files[95:97]\n",
    "input.peak.files"
   ]
  },
  {
   "cell_type": "code",
   "execution_count": 13,
   "metadata": {
    "scrolled": true
   },
   "outputs": [
    {
     "name": "stdout",
     "output_type": "stream",
     "text": [
      "[1] \"-----------\"\n",
      "[1] \"2021_GoldrathLab_Brd4___BRD4_MP-CD8\"\n"
     ]
    },
    {
     "name": "stderr",
     "output_type": "stream",
     "text": [
      "Saving 13.3 x 13.3 in image\n",
      "\n"
     ]
    },
    {
     "name": "stdout",
     "output_type": "stream",
     "text": [
      ">> loading peak file...\t\t\t\t 2021-01-22 01:21:52 AM \n",
      ">> preparing features information...\t\t 2021-01-22 01:21:52 AM \n",
      ">> identifying nearest features...\t\t 2021-01-22 01:21:53 AM \n",
      ">> calculating distance from peak to TSS...\t 2021-01-22 01:21:53 AM \n",
      ">> assigning genomic annotation...\t\t 2021-01-22 01:21:53 AM \n",
      ">> adding gene annotation...\t\t\t 2021-01-22 01:22:05 AM \n"
     ]
    },
    {
     "name": "stderr",
     "output_type": "stream",
     "text": [
      "Loading required package: org.Mm.eg.db\n",
      "\n",
      "\n",
      "\n",
      "'select()' returned 1:many mapping between keys and columns\n",
      "\n"
     ]
    },
    {
     "name": "stdout",
     "output_type": "stream",
     "text": [
      ">> assigning chromosome lengths\t\t\t 2021-01-22 01:22:06 AM \n",
      ">> done...\t\t\t\t\t 2021-01-22 01:22:06 AM \n"
     ]
    },
    {
     "name": "stderr",
     "output_type": "stream",
     "text": [
      "Saving 13.3 x 13.3 in image\n",
      "\n"
     ]
    },
    {
     "name": "stdout",
     "output_type": "stream",
     "text": [
      "[1] \"-----------\"\n",
      "[1] \"2021_GoldrathLab_Brd4___BRD4_NAV-CD8\"\n"
     ]
    },
    {
     "name": "stderr",
     "output_type": "stream",
     "text": [
      "Saving 13.3 x 13.3 in image\n",
      "\n"
     ]
    },
    {
     "name": "stdout",
     "output_type": "stream",
     "text": [
      ">> loading peak file...\t\t\t\t 2021-01-22 01:22:49 AM \n",
      ">> preparing features information...\t\t 2021-01-22 01:22:49 AM \n",
      ">> identifying nearest features...\t\t 2021-01-22 01:22:49 AM \n",
      ">> calculating distance from peak to TSS...\t 2021-01-22 01:22:49 AM \n",
      ">> assigning genomic annotation...\t\t 2021-01-22 01:22:49 AM \n",
      ">> adding gene annotation...\t\t\t 2021-01-22 01:22:51 AM \n"
     ]
    },
    {
     "name": "stderr",
     "output_type": "stream",
     "text": [
      "'select()' returned 1:many mapping between keys and columns\n",
      "\n"
     ]
    },
    {
     "name": "stdout",
     "output_type": "stream",
     "text": [
      ">> assigning chromosome lengths\t\t\t 2021-01-22 01:22:51 AM \n",
      ">> done...\t\t\t\t\t 2021-01-22 01:22:51 AM \n"
     ]
    },
    {
     "name": "stderr",
     "output_type": "stream",
     "text": [
      "Saving 13.3 x 13.3 in image\n",
      "\n"
     ]
    },
    {
     "name": "stdout",
     "output_type": "stream",
     "text": [
      "[1] \"-----------\"\n",
      "[1] \"2021_GoldrathLab_Brd4___BRD4_TE-CD8\"\n"
     ]
    },
    {
     "name": "stderr",
     "output_type": "stream",
     "text": [
      "Saving 13.3 x 13.3 in image\n",
      "\n"
     ]
    },
    {
     "name": "stdout",
     "output_type": "stream",
     "text": [
      ">> loading peak file...\t\t\t\t 2021-01-22 01:23:39 AM \n",
      ">> preparing features information...\t\t 2021-01-22 01:23:39 AM \n",
      ">> identifying nearest features...\t\t 2021-01-22 01:23:39 AM \n",
      ">> calculating distance from peak to TSS...\t 2021-01-22 01:23:39 AM \n",
      ">> assigning genomic annotation...\t\t 2021-01-22 01:23:39 AM \n",
      ">> adding gene annotation...\t\t\t 2021-01-22 01:23:42 AM \n"
     ]
    },
    {
     "name": "stderr",
     "output_type": "stream",
     "text": [
      "'select()' returned 1:many mapping between keys and columns\n",
      "\n"
     ]
    },
    {
     "name": "stdout",
     "output_type": "stream",
     "text": [
      ">> assigning chromosome lengths\t\t\t 2021-01-22 01:23:42 AM \n",
      ">> done...\t\t\t\t\t 2021-01-22 01:23:42 AM \n"
     ]
    },
    {
     "name": "stderr",
     "output_type": "stream",
     "text": [
      "Saving 13.3 x 13.3 in image\n",
      "\n"
     ]
    }
   ],
   "source": [
    "for (file.i in input.peak.files){\n",
    "    if (!(file.i %in% attempted)) {\n",
    "        attempted <- c(attempted, file.i)\n",
    "        i <- gsub(\"_peaks.narrowPeak.chr.bed\",\"\", basename(file.i))\n",
    "        print(\"-----------\")\n",
    "        print(i)\n",
    "        peak.i <- readPeakFile(file.i)\n",
    "        \n",
    "        if (length(peak.i@ranges@start) > 200) {\n",
    "            #----- Coverage\n",
    "            covplot.i <- covplot(peak.i, weightCol=\"V5\")\n",
    "            plot.name.i <- file.path(out.dir, paste(i, \"covPlot.png\", sep=\"_\"))\n",
    "            ggsave(plot.name.i, covplot.i, device='png', scale=2)\n",
    "\n",
    "            #----- TagMatrix\n",
    "            tagMatrix.i <- getTagMatrix(peak.i, windows=promoter)\n",
    "\n",
    "            plot.name.i <- file.path(out.dir, paste(i, \"tagMatrix.jpg\", sep=\"_\"))\n",
    "            jpeg(filename=plot.name.i,width=400,height=600)\n",
    "            tagHeatmap(tagMatrix.i, xlim=bp.range, color=NULL)\n",
    "            dev.off()\n",
    "\n",
    "            #----- Average Prof\n",
    "            #avgprof.plot.i <- plotAvgProf(tagMatrix.i, xlim=bp.range, conf=0.95, resample = 1000)\n",
    "            #plot.name.i <- file.path(out.dir, paste(i, \"avgProfPlot.png\", sep=\"_\"))\n",
    "            #ggsave(plot.name.i, avgprof.plot.i, device='png', scale=1)\n",
    "\n",
    "            #----- Peak Annotateion\n",
    "            peakAnno <- annotatePeak(file.i, tssRegion=bp.range, TxDb=txdb, annoDb=\"org.Mm.eg.db\")\n",
    "            peakAnno.df <- as.data.frame(peakAnno)\n",
    "            df.name.i <- file.path(out.dir, paste(i, \"annoDf.csv\", sep=\"_\"))\n",
    "            write_csv(peakAnno.df, df.name.i)\n",
    "\n",
    "            #----- Annotation Pie Chart\n",
    "            plot.name.i <- file.path(out.dir, paste(i, \"annoPiePlot.jpg\", sep=\"_\"))\n",
    "            jpeg(filename=plot.name.i,width=480,height=480)\n",
    "            plotAnnoPie(peakAnno)\n",
    "            dev.off()\n",
    "\n",
    "            #----- Pathway Analysis\n",
    "            pathway.i <- enrichPathway(peakAnno.df$geneId, organism='mouse')\n",
    "            df.name.i <- file.path(out.dir, paste(i, \"pathway.csv\", sep=\"_\"))\n",
    "            write_csv(as.data.frame(pathway.i), df.name.i)\n",
    "\n",
    "            pathway.plot.i <- dotplot(pathway.i)\n",
    "            plot.name.i <- file.path(out.dir, paste(i, \"pathwayDotPlot.png\", sep=\"_\"))\n",
    "            ggsave(plot.name.i, pathway.plot.i, device='png', scale=2)\n",
    "        }    \n",
    "    }\n",
    "}"
   ]
  },
  {
   "cell_type": "code",
   "execution_count": null,
   "metadata": {},
   "outputs": [],
   "source": []
  }
 ],
 "metadata": {
  "kernelspec": {
   "display_name": "R",
   "language": "R",
   "name": "ir"
  },
  "language_info": {
   "codemirror_mode": "r",
   "file_extension": ".r",
   "mimetype": "text/x-r-source",
   "name": "R",
   "pygments_lexer": "r",
   "version": "3.6.3"
  }
 },
 "nbformat": 4,
 "nbformat_minor": 4
}
