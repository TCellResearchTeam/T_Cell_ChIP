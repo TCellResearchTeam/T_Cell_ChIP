{
 "cells": [
  {
   "cell_type": "code",
   "execution_count": 3,
   "metadata": {},
   "outputs": [],
   "source": [
    "library(ChIPseeker)\n",
    "library(clusterProfiler)\n",
    "library(GenomicFeatures)\n",
    "library(AnnotationDbi)\n",
    "library(TxDb.Mmusculus.UCSC.mm10.knownGene)\n",
    "library(ReactomePA)\n",
    "library(tidyverse)\n",
    "\n",
    "txdb <- TxDb.Mmusculus.UCSC.mm10.knownGene\n",
    "promoter <- getPromoters(TxDb=txdb, upstream=5000, downstream=5000)\n",
    "\n",
    "if (! exists(\"code.dir\")) {\n",
    "    code.dir <- getwd()\n",
    "    out.dir <- gsub(\"codes_local\", \"3_peak_annotations\", code.dir)\n",
    "}"
   ]
  },
  {
   "cell_type": "code",
   "execution_count": 11,
   "metadata": {},
   "outputs": [],
   "source": [
    "input.dir <- '/media/pipkin/Rocket2/T_Cell_ChIP/202012_ChIP/2_MACS2'\n",
    "input.peak.files <- list.files(path=input.dir, patter='narrowPeak.chr.bed',full.name=TRUE)\n",
    "\n",
    "bp.range <- c(-10000, 10000)\n",
    "attempted <- c()"
   ]
  },
  {
   "cell_type": "code",
   "execution_count": 12,
   "metadata": {
    "scrolled": true
   },
   "outputs": [
    {
     "name": "stdout",
     "output_type": "stream",
     "text": [
      "[1] \"-----------\"\n",
      "[1] \"2013_IMMUNITY_KIM___Foxo1_Biotin_naive-CD8-WT\"\n",
      "[1] \"Peak Annotation\"\n",
      ">> loading peak file...\t\t\t\t 2021-01-22 10:54:53 PM \n",
      ">> preparing features information...\t\t 2021-01-22 10:54:53 PM \n",
      ">> identifying nearest features...\t\t 2021-01-22 10:54:53 PM \n",
      ">> calculating distance from peak to TSS...\t 2021-01-22 10:54:53 PM \n",
      ">> assigning genomic annotation...\t\t 2021-01-22 10:54:53 PM \n",
      ">> adding gene annotation...\t\t\t 2021-01-22 10:54:55 PM \n"
     ]
    },
    {
     "name": "stderr",
     "output_type": "stream",
     "text": [
      "'select()' returned 1:many mapping between keys and columns\n",
      "\n"
     ]
    },
    {
     "name": "stdout",
     "output_type": "stream",
     "text": [
      ">> assigning chromosome lengths\t\t\t 2021-01-22 10:54:56 PM \n",
      ">> done...\t\t\t\t\t 2021-01-22 10:54:56 PM \n",
      "[1] \"Annotation Pie Chart\"\n",
      "[1] \"Pathway analysis\"\n"
     ]
    },
    {
     "name": "stderr",
     "output_type": "stream",
     "text": [
      "Saving 13.3 x 13.3 in image\n",
      "\n"
     ]
    },
    {
     "name": "stdout",
     "output_type": "stream",
     "text": [
      "[1] \"-----------\"\n",
      "[1] \"2013_IMMUNITY_KIM___Foxo1_naive-CD8-WT\"\n",
      "[1] \"Peak Annotation\"\n",
      ">> loading peak file...\t\t\t\t 2021-01-22 10:55:03 PM \n",
      ">> preparing features information...\t\t 2021-01-22 10:55:03 PM \n",
      ">> identifying nearest features...\t\t 2021-01-22 10:55:03 PM \n",
      ">> calculating distance from peak to TSS...\t 2021-01-22 10:55:04 PM \n",
      ">> assigning genomic annotation...\t\t 2021-01-22 10:55:04 PM \n",
      ">> adding gene annotation...\t\t\t 2021-01-22 10:55:06 PM \n"
     ]
    },
    {
     "name": "stderr",
     "output_type": "stream",
     "text": [
      "'select()' returned 1:many mapping between keys and columns\n",
      "\n"
     ]
    },
    {
     "name": "stdout",
     "output_type": "stream",
     "text": [
      ">> assigning chromosome lengths\t\t\t 2021-01-22 10:55:06 PM \n",
      ">> done...\t\t\t\t\t 2021-01-22 10:55:06 PM \n",
      "[1] \"Annotation Pie Chart\"\n",
      "[1] \"Pathway analysis\"\n"
     ]
    },
    {
     "name": "stderr",
     "output_type": "stream",
     "text": [
      "Saving 13.3 x 13.3 in image\n",
      "\n"
     ]
    },
    {
     "name": "stdout",
     "output_type": "stream",
     "text": [
      "[1] \"-----------\"\n",
      "[1] \"2013_PLOS_ONE_Lotem___H3K4me1_invitro-Il2-CD8\"\n",
      "[1] \"Peak Annotation\"\n",
      ">> loading peak file...\t\t\t\t 2021-01-22 10:55:12 PM \n",
      ">> preparing features information...\t\t 2021-01-22 10:55:12 PM \n",
      ">> identifying nearest features...\t\t 2021-01-22 10:55:12 PM \n",
      ">> calculating distance from peak to TSS...\t 2021-01-22 10:55:12 PM \n",
      ">> assigning genomic annotation...\t\t 2021-01-22 10:55:12 PM \n",
      ">> adding gene annotation...\t\t\t 2021-01-22 10:55:14 PM \n"
     ]
    },
    {
     "name": "stderr",
     "output_type": "stream",
     "text": [
      "'select()' returned 1:many mapping between keys and columns\n",
      "\n"
     ]
    },
    {
     "name": "stdout",
     "output_type": "stream",
     "text": [
      ">> assigning chromosome lengths\t\t\t 2021-01-22 10:55:14 PM \n",
      ">> done...\t\t\t\t\t 2021-01-22 10:55:14 PM \n",
      "[1] \"Annotation Pie Chart\"\n",
      "[1] \"Pathway analysis\"\n"
     ]
    },
    {
     "name": "stderr",
     "output_type": "stream",
     "text": [
      "Saving 13.3 x 13.3 in image\n",
      "\n"
     ]
    },
    {
     "name": "stdout",
     "output_type": "stream",
     "text": [
      "[1] \"-----------\"\n",
      "[1] \"2013_PLOS_ONE_Lotem___H3K4me1_invitro-NAV-CD8\"\n",
      "[1] \"Peak Annotation\"\n",
      ">> loading peak file...\t\t\t\t 2021-01-22 10:55:22 PM \n",
      ">> preparing features information...\t\t 2021-01-22 10:55:24 PM \n",
      ">> identifying nearest features...\t\t 2021-01-22 10:55:24 PM \n",
      ">> calculating distance from peak to TSS...\t 2021-01-22 10:55:28 PM \n",
      ">> assigning genomic annotation...\t\t 2021-01-22 10:55:28 PM \n",
      ">> adding gene annotation...\t\t\t 2021-01-22 10:55:31 PM \n"
     ]
    },
    {
     "name": "stderr",
     "output_type": "stream",
     "text": [
      "'select()' returned 1:many mapping between keys and columns\n",
      "\n"
     ]
    },
    {
     "name": "stdout",
     "output_type": "stream",
     "text": [
      ">> assigning chromosome lengths\t\t\t 2021-01-22 10:55:31 PM \n",
      ">> done...\t\t\t\t\t 2021-01-22 10:55:31 PM \n",
      "[1] \"Annotation Pie Chart\"\n",
      "[1] \"Pathway analysis\"\n"
     ]
    },
    {
     "name": "stderr",
     "output_type": "stream",
     "text": [
      "Saving 13.3 x 13.3 in image\n",
      "\n"
     ]
    },
    {
     "name": "stdout",
     "output_type": "stream",
     "text": [
      "[1] \"-----------\"\n",
      "[1] \"2013_PLOS_ONE_Lotem___Runx3_invitro-Il2-CD8\"\n",
      "[1] \"Peak Annotation\"\n",
      ">> loading peak file...\t\t\t\t 2021-01-22 10:55:38 PM \n",
      ">> preparing features information...\t\t 2021-01-22 10:55:38 PM \n",
      ">> identifying nearest features...\t\t 2021-01-22 10:55:38 PM \n",
      ">> calculating distance from peak to TSS...\t 2021-01-22 10:55:39 PM \n",
      ">> assigning genomic annotation...\t\t 2021-01-22 10:55:39 PM \n",
      ">> adding gene annotation...\t\t\t 2021-01-22 10:55:41 PM \n"
     ]
    },
    {
     "name": "stderr",
     "output_type": "stream",
     "text": [
      "'select()' returned 1:many mapping between keys and columns\n",
      "\n"
     ]
    },
    {
     "name": "stdout",
     "output_type": "stream",
     "text": [
      ">> assigning chromosome lengths\t\t\t 2021-01-22 10:55:41 PM \n",
      ">> done...\t\t\t\t\t 2021-01-22 10:55:41 PM \n",
      "[1] \"Annotation Pie Chart\"\n",
      "[1] \"Pathway analysis\"\n"
     ]
    },
    {
     "name": "stderr",
     "output_type": "stream",
     "text": [
      "Saving 13.3 x 13.3 in image\n",
      "\n"
     ]
    },
    {
     "name": "stdout",
     "output_type": "stream",
     "text": [
      "[1] \"-----------\"\n",
      "[1] \"2013_PLOS_ONE_Lotem___Runx3_invitro-NAV-CD8\"\n",
      "[1] \"Peak Annotation\"\n",
      ">> loading peak file...\t\t\t\t 2021-01-22 10:55:46 PM \n",
      ">> preparing features information...\t\t 2021-01-22 10:55:46 PM \n",
      ">> identifying nearest features...\t\t 2021-01-22 10:55:46 PM \n",
      ">> calculating distance from peak to TSS...\t 2021-01-22 10:55:46 PM \n",
      ">> assigning genomic annotation...\t\t 2021-01-22 10:55:46 PM \n",
      ">> adding gene annotation...\t\t\t 2021-01-22 10:55:49 PM \n"
     ]
    },
    {
     "name": "stderr",
     "output_type": "stream",
     "text": [
      "'select()' returned 1:many mapping between keys and columns\n",
      "\n"
     ]
    },
    {
     "name": "stdout",
     "output_type": "stream",
     "text": [
      ">> assigning chromosome lengths\t\t\t 2021-01-22 10:55:49 PM \n",
      ">> done...\t\t\t\t\t 2021-01-22 10:55:49 PM \n",
      "[1] \"Annotation Pie Chart\"\n",
      "[1] \"Pathway analysis\"\n"
     ]
    },
    {
     "name": "stderr",
     "output_type": "stream",
     "text": [
      "Saving 13.3 x 13.3 in image\n",
      "\n"
     ]
    },
    {
     "name": "stdout",
     "output_type": "stream",
     "text": [
      "[1] \"-----------\"\n",
      "[1] \"2014_NAT_IMMUNOL_Kurachi___BATF-invitro-d3-CD8\"\n",
      "[1] \"Peak Annotation\"\n",
      ">> loading peak file...\t\t\t\t 2021-01-22 10:55:54 PM \n",
      ">> preparing features information...\t\t 2021-01-22 10:55:54 PM \n",
      ">> identifying nearest features...\t\t 2021-01-22 10:55:54 PM \n",
      ">> calculating distance from peak to TSS...\t 2021-01-22 10:55:54 PM \n",
      ">> assigning genomic annotation...\t\t 2021-01-22 10:55:54 PM \n",
      ">> adding gene annotation...\t\t\t 2021-01-22 10:55:57 PM \n"
     ]
    },
    {
     "name": "stderr",
     "output_type": "stream",
     "text": [
      "'select()' returned 1:many mapping between keys and columns\n",
      "\n"
     ]
    },
    {
     "name": "stdout",
     "output_type": "stream",
     "text": [
      ">> assigning chromosome lengths\t\t\t 2021-01-22 10:55:57 PM \n",
      ">> done...\t\t\t\t\t 2021-01-22 10:55:57 PM \n",
      "[1] \"Annotation Pie Chart\"\n",
      "[1] \"Pathway analysis\"\n"
     ]
    },
    {
     "name": "stderr",
     "output_type": "stream",
     "text": [
      "Saving 13.3 x 13.3 in image\n",
      "\n"
     ]
    },
    {
     "name": "stdout",
     "output_type": "stream",
     "text": [
      "[1] \"-----------\"\n",
      "[1] \"2014_NAT_IMMUNOL_Kurachi___cJun-invitro-d3-CD8\"\n",
      "[1] \"Peak Annotation\"\n",
      ">> loading peak file...\t\t\t\t 2021-01-22 10:56:02 PM \n",
      ">> preparing features information...\t\t 2021-01-22 10:56:02 PM \n",
      ">> identifying nearest features...\t\t 2021-01-22 10:56:02 PM \n",
      ">> calculating distance from peak to TSS...\t 2021-01-22 10:56:02 PM \n",
      ">> assigning genomic annotation...\t\t 2021-01-22 10:56:02 PM \n",
      ">> adding gene annotation...\t\t\t 2021-01-22 10:56:05 PM \n"
     ]
    },
    {
     "name": "stderr",
     "output_type": "stream",
     "text": [
      "'select()' returned 1:many mapping between keys and columns\n",
      "\n"
     ]
    },
    {
     "name": "stdout",
     "output_type": "stream",
     "text": [
      ">> assigning chromosome lengths\t\t\t 2021-01-22 10:56:05 PM \n",
      ">> done...\t\t\t\t\t 2021-01-22 10:56:05 PM \n",
      "[1] \"Annotation Pie Chart\"\n",
      "[1] \"Pathway analysis\"\n"
     ]
    },
    {
     "name": "stderr",
     "output_type": "stream",
     "text": [
      "Saving 13.3 x 13.3 in image\n",
      "\n"
     ]
    },
    {
     "name": "stdout",
     "output_type": "stream",
     "text": [
      "[1] \"-----------\"\n",
      "[1] \"2014_NAT_IMMUNOL_Kurachi___H3-invitro-d3-CD8\"\n",
      "[1] \"-----------\"\n",
      "[1] \"2014_NAT_IMMUNOL_Kurachi___H3K27ac-invitro-d3-CD8\"\n",
      "[1] \"Peak Annotation\"\n",
      ">> loading peak file...\t\t\t\t 2021-01-22 10:56:13 PM \n",
      ">> preparing features information...\t\t 2021-01-22 10:56:15 PM \n",
      ">> identifying nearest features...\t\t 2021-01-22 10:56:15 PM \n",
      ">> calculating distance from peak to TSS...\t 2021-01-22 10:56:19 PM \n",
      ">> assigning genomic annotation...\t\t 2021-01-22 10:56:19 PM \n",
      ">> adding gene annotation...\t\t\t 2021-01-22 10:56:22 PM \n"
     ]
    },
    {
     "name": "stderr",
     "output_type": "stream",
     "text": [
      "'select()' returned 1:many mapping between keys and columns\n",
      "\n"
     ]
    },
    {
     "name": "stdout",
     "output_type": "stream",
     "text": [
      ">> assigning chromosome lengths\t\t\t 2021-01-22 10:56:23 PM \n",
      ">> done...\t\t\t\t\t 2021-01-22 10:56:23 PM \n",
      "[1] \"Annotation Pie Chart\"\n",
      "[1] \"Pathway analysis\"\n"
     ]
    },
    {
     "name": "stderr",
     "output_type": "stream",
     "text": [
      "Saving 13.3 x 13.3 in image\n",
      "\n"
     ]
    },
    {
     "name": "stdout",
     "output_type": "stream",
     "text": [
      "[1] \"-----------\"\n",
      "[1] \"2014_NAT_IMMUNOL_Kurachi___H3K27me3-invitro-d3-CD8\"\n",
      "[1] \"Peak Annotation\"\n",
      ">> loading peak file...\t\t\t\t 2021-01-22 10:56:31 PM \n",
      ">> preparing features information...\t\t 2021-01-22 10:56:32 PM \n",
      ">> identifying nearest features...\t\t 2021-01-22 10:56:32 PM \n",
      ">> calculating distance from peak to TSS...\t 2021-01-22 10:56:33 PM \n",
      ">> assigning genomic annotation...\t\t 2021-01-22 10:56:33 PM \n",
      ">> adding gene annotation...\t\t\t 2021-01-22 10:56:36 PM \n"
     ]
    },
    {
     "name": "stderr",
     "output_type": "stream",
     "text": [
      "'select()' returned 1:many mapping between keys and columns\n",
      "\n"
     ]
    },
    {
     "name": "stdout",
     "output_type": "stream",
     "text": [
      ">> assigning chromosome lengths\t\t\t 2021-01-22 10:56:36 PM \n",
      ">> done...\t\t\t\t\t 2021-01-22 10:56:36 PM \n",
      "[1] \"Annotation Pie Chart\"\n",
      "[1] \"Pathway analysis\"\n"
     ]
    },
    {
     "name": "stderr",
     "output_type": "stream",
     "text": [
      "Saving 13.3 x 13.3 in image\n",
      "\n"
     ]
    },
    {
     "name": "stdout",
     "output_type": "stream",
     "text": [
      "[1] \"-----------\"\n",
      "[1] \"2014_NAT_IMMUNOL_Kurachi___H3K36me3-invitro-d3-CD8\"\n",
      "[1] \"Peak Annotation\"\n",
      ">> loading peak file...\t\t\t\t 2021-01-22 10:56:44 PM \n",
      ">> preparing features information...\t\t 2021-01-22 10:56:46 PM \n",
      ">> identifying nearest features...\t\t 2021-01-22 10:56:46 PM \n",
      ">> calculating distance from peak to TSS...\t 2021-01-22 10:56:48 PM \n",
      ">> assigning genomic annotation...\t\t 2021-01-22 10:56:48 PM \n",
      ">> adding gene annotation...\t\t\t 2021-01-22 10:56:51 PM \n"
     ]
    },
    {
     "name": "stderr",
     "output_type": "stream",
     "text": [
      "'select()' returned 1:many mapping between keys and columns\n",
      "\n"
     ]
    },
    {
     "name": "stdout",
     "output_type": "stream",
     "text": [
      ">> assigning chromosome lengths\t\t\t 2021-01-22 10:56:52 PM \n",
      ">> done...\t\t\t\t\t 2021-01-22 10:56:52 PM \n",
      "[1] \"Annotation Pie Chart\"\n",
      "[1] \"Pathway analysis\"\n"
     ]
    },
    {
     "name": "stderr",
     "output_type": "stream",
     "text": [
      "Saving 13.3 x 13.3 in image\n",
      "\n"
     ]
    },
    {
     "name": "stdout",
     "output_type": "stream",
     "text": [
      "[1] \"-----------\"\n",
      "[1] \"2014_NAT_IMMUNOL_Kurachi___H3K4me1-invitro-d3-CD8\"\n",
      "[1] \"Peak Annotation\"\n",
      ">> loading peak file...\t\t\t\t 2021-01-22 10:57:01 PM \n",
      ">> preparing features information...\t\t 2021-01-22 10:57:03 PM \n",
      ">> identifying nearest features...\t\t 2021-01-22 10:57:03 PM \n",
      ">> calculating distance from peak to TSS...\t 2021-01-22 10:57:06 PM \n",
      ">> assigning genomic annotation...\t\t 2021-01-22 10:57:06 PM \n",
      ">> adding gene annotation...\t\t\t 2021-01-22 10:57:09 PM \n"
     ]
    },
    {
     "name": "stderr",
     "output_type": "stream",
     "text": [
      "'select()' returned 1:many mapping between keys and columns\n",
      "\n"
     ]
    },
    {
     "name": "stdout",
     "output_type": "stream",
     "text": [
      ">> assigning chromosome lengths\t\t\t 2021-01-22 10:57:09 PM \n",
      ">> done...\t\t\t\t\t 2021-01-22 10:57:09 PM \n",
      "[1] \"Annotation Pie Chart\"\n",
      "[1] \"Pathway analysis\"\n"
     ]
    },
    {
     "name": "stderr",
     "output_type": "stream",
     "text": [
      "Saving 13.3 x 13.3 in image\n",
      "\n"
     ]
    },
    {
     "name": "stdout",
     "output_type": "stream",
     "text": [
      "[1] \"-----------\"\n",
      "[1] \"2014_NAT_IMMUNOL_Kurachi___H3K4me3-invitro-d3-CD8\"\n",
      "[1] \"Peak Annotation\"\n",
      ">> loading peak file...\t\t\t\t 2021-01-22 10:57:17 PM \n",
      ">> preparing features information...\t\t 2021-01-22 10:57:18 PM \n",
      ">> identifying nearest features...\t\t 2021-01-22 10:57:18 PM \n",
      ">> calculating distance from peak to TSS...\t 2021-01-22 10:57:19 PM \n",
      ">> assigning genomic annotation...\t\t 2021-01-22 10:57:19 PM \n",
      ">> adding gene annotation...\t\t\t 2021-01-22 10:57:22 PM \n"
     ]
    },
    {
     "name": "stderr",
     "output_type": "stream",
     "text": [
      "'select()' returned 1:many mapping between keys and columns\n",
      "\n"
     ]
    },
    {
     "name": "stdout",
     "output_type": "stream",
     "text": [
      ">> assigning chromosome lengths\t\t\t 2021-01-22 10:57:22 PM \n",
      ">> done...\t\t\t\t\t 2021-01-22 10:57:22 PM \n",
      "[1] \"Annotation Pie Chart\"\n",
      "[1] \"Pathway analysis\"\n"
     ]
    },
    {
     "name": "stderr",
     "output_type": "stream",
     "text": [
      "Saving 13.3 x 13.3 in image\n",
      "\n"
     ]
    },
    {
     "name": "stdout",
     "output_type": "stream",
     "text": [
      "[1] \"-----------\"\n",
      "[1] \"2014_NAT_IMMUNOL_Kurachi___IgG-invitro-d3-CD8\"\n",
      "[1] \"Peak Annotation\"\n",
      ">> loading peak file...\t\t\t\t 2021-01-22 10:57:28 PM \n",
      ">> preparing features information...\t\t 2021-01-22 10:57:28 PM \n",
      ">> identifying nearest features...\t\t 2021-01-22 10:57:28 PM \n",
      ">> calculating distance from peak to TSS...\t 2021-01-22 10:57:29 PM \n",
      ">> assigning genomic annotation...\t\t 2021-01-22 10:57:29 PM \n",
      ">> adding gene annotation...\t\t\t 2021-01-22 10:57:31 PM \n"
     ]
    },
    {
     "name": "stderr",
     "output_type": "stream",
     "text": [
      "'select()' returned 1:many mapping between keys and columns\n",
      "\n"
     ]
    },
    {
     "name": "stdout",
     "output_type": "stream",
     "text": [
      ">> assigning chromosome lengths\t\t\t 2021-01-22 10:57:31 PM \n",
      ">> done...\t\t\t\t\t 2021-01-22 10:57:31 PM \n",
      "[1] \"Annotation Pie Chart\"\n",
      "[1] \"Pathway analysis\"\n"
     ]
    },
    {
     "name": "stderr",
     "output_type": "stream",
     "text": [
      "Saving 13.3 x 13.3 in image\n",
      "\n"
     ]
    },
    {
     "name": "stdout",
     "output_type": "stream",
     "text": [
      "[1] \"-----------\"\n",
      "[1] \"2014_NAT_IMMUNOL_Kurachi___IRF4-invitro-d3-CD8\"\n",
      "[1] \"Peak Annotation\"\n",
      ">> loading peak file...\t\t\t\t 2021-01-22 10:57:36 PM \n",
      ">> preparing features information...\t\t 2021-01-22 10:57:36 PM \n",
      ">> identifying nearest features...\t\t 2021-01-22 10:57:36 PM \n",
      ">> calculating distance from peak to TSS...\t 2021-01-22 10:57:36 PM \n",
      ">> assigning genomic annotation...\t\t 2021-01-22 10:57:36 PM \n",
      ">> adding gene annotation...\t\t\t 2021-01-22 10:57:39 PM \n"
     ]
    },
    {
     "name": "stderr",
     "output_type": "stream",
     "text": [
      "'select()' returned 1:many mapping between keys and columns\n",
      "\n"
     ]
    },
    {
     "name": "stdout",
     "output_type": "stream",
     "text": [
      ">> assigning chromosome lengths\t\t\t 2021-01-22 10:57:39 PM \n",
      ">> done...\t\t\t\t\t 2021-01-22 10:57:39 PM \n",
      "[1] \"Annotation Pie Chart\"\n",
      "[1] \"Pathway analysis\"\n"
     ]
    },
    {
     "name": "stderr",
     "output_type": "stream",
     "text": [
      "Saving 13.3 x 13.3 in image\n",
      "\n"
     ]
    },
    {
     "name": "stdout",
     "output_type": "stream",
     "text": [
      "[1] \"-----------\"\n",
      "[1] \"2014_NAT_IMMUNOL_Kurachi___JunB-invitro-d3-CD8\"\n",
      "[1] \"Peak Annotation\"\n",
      ">> loading peak file...\t\t\t\t 2021-01-22 10:57:45 PM \n",
      ">> preparing features information...\t\t 2021-01-22 10:57:45 PM \n",
      ">> identifying nearest features...\t\t 2021-01-22 10:57:45 PM \n",
      ">> calculating distance from peak to TSS...\t 2021-01-22 10:57:45 PM \n",
      ">> assigning genomic annotation...\t\t 2021-01-22 10:57:45 PM \n",
      ">> adding gene annotation...\t\t\t 2021-01-22 10:57:49 PM \n"
     ]
    },
    {
     "name": "stderr",
     "output_type": "stream",
     "text": [
      "'select()' returned 1:many mapping between keys and columns\n",
      "\n"
     ]
    },
    {
     "name": "stdout",
     "output_type": "stream",
     "text": [
      ">> assigning chromosome lengths\t\t\t 2021-01-22 10:57:49 PM \n",
      ">> done...\t\t\t\t\t 2021-01-22 10:57:49 PM \n",
      "[1] \"Annotation Pie Chart\"\n",
      "[1] \"Pathway analysis\"\n"
     ]
    },
    {
     "name": "stderr",
     "output_type": "stream",
     "text": [
      "Saving 13.3 x 13.3 in image\n",
      "\n"
     ]
    },
    {
     "name": "stdout",
     "output_type": "stream",
     "text": [
      "[1] \"-----------\"\n",
      "[1] \"2014_NAT_IMMUNOL_Kurachi___JunD-invitro-d3-CD8\"\n",
      "[1] \"Peak Annotation\"\n",
      ">> loading peak file...\t\t\t\t 2021-01-22 10:57:53 PM \n",
      ">> preparing features information...\t\t 2021-01-22 10:57:53 PM \n",
      ">> identifying nearest features...\t\t 2021-01-22 10:57:53 PM \n",
      ">> calculating distance from peak to TSS...\t 2021-01-22 10:57:53 PM \n",
      ">> assigning genomic annotation...\t\t 2021-01-22 10:57:53 PM \n",
      ">> adding gene annotation...\t\t\t 2021-01-22 10:57:55 PM \n"
     ]
    },
    {
     "name": "stderr",
     "output_type": "stream",
     "text": [
      "'select()' returned 1:many mapping between keys and columns\n",
      "\n"
     ]
    },
    {
     "name": "stdout",
     "output_type": "stream",
     "text": [
      ">> assigning chromosome lengths\t\t\t 2021-01-22 10:57:55 PM \n",
      ">> done...\t\t\t\t\t 2021-01-22 10:57:55 PM \n",
      "[1] \"Annotation Pie Chart\"\n",
      "[1] \"Pathway analysis\"\n"
     ]
    },
    {
     "name": "stderr",
     "output_type": "stream",
     "text": [
      "Saving 13.3 x 13.3 in image\n",
      "\n"
     ]
    },
    {
     "name": "stdout",
     "output_type": "stream",
     "text": [
      "[1] \"-----------\"\n",
      "[1] \"2015_IMMUNITY_Martinez___Nfat1_invitro-CD8-Nfat1KO\"\n",
      "[1] \"Peak Annotation\"\n",
      ">> loading peak file...\t\t\t\t 2021-01-22 10:58:00 PM \n",
      ">> preparing features information...\t\t 2021-01-22 10:58:00 PM \n",
      ">> identifying nearest features...\t\t 2021-01-22 10:58:00 PM \n",
      ">> calculating distance from peak to TSS...\t 2021-01-22 10:58:00 PM \n",
      ">> assigning genomic annotation...\t\t 2021-01-22 10:58:00 PM \n",
      ">> adding gene annotation...\t\t\t 2021-01-22 10:58:02 PM \n"
     ]
    },
    {
     "name": "stderr",
     "output_type": "stream",
     "text": [
      "'select()' returned 1:many mapping between keys and columns\n",
      "\n"
     ]
    },
    {
     "name": "stdout",
     "output_type": "stream",
     "text": [
      ">> assigning chromosome lengths\t\t\t 2021-01-22 10:58:02 PM \n",
      ">> done...\t\t\t\t\t 2021-01-22 10:58:02 PM \n",
      "[1] \"Annotation Pie Chart\"\n",
      "[1] \"Pathway analysis\"\n"
     ]
    },
    {
     "name": "stderr",
     "output_type": "stream",
     "text": [
      "Saving 13.3 x 13.3 in image\n",
      "\n"
     ]
    },
    {
     "name": "stdout",
     "output_type": "stream",
     "text": [
      "[1] \"-----------\"\n",
      "[1] \"2015_IMMUNITY_Martinez___Nfat1_invitro-CD8-Nfat1KO-CA-RIT-RV\"\n",
      "[1] \"Peak Annotation\"\n",
      ">> loading peak file...\t\t\t\t 2021-01-22 10:58:07 PM \n",
      ">> preparing features information...\t\t 2021-01-22 10:58:07 PM \n",
      ">> identifying nearest features...\t\t 2021-01-22 10:58:07 PM \n",
      ">> calculating distance from peak to TSS...\t 2021-01-22 10:58:07 PM \n",
      ">> assigning genomic annotation...\t\t 2021-01-22 10:58:07 PM \n",
      ">> adding gene annotation...\t\t\t 2021-01-22 10:58:09 PM \n"
     ]
    },
    {
     "name": "stderr",
     "output_type": "stream",
     "text": [
      "'select()' returned 1:many mapping between keys and columns\n",
      "\n"
     ]
    },
    {
     "name": "stdout",
     "output_type": "stream",
     "text": [
      ">> assigning chromosome lengths\t\t\t 2021-01-22 10:58:09 PM \n",
      ">> done...\t\t\t\t\t 2021-01-22 10:58:09 PM \n",
      "[1] \"Annotation Pie Chart\"\n",
      "[1] \"Pathway analysis\"\n"
     ]
    },
    {
     "name": "stderr",
     "output_type": "stream",
     "text": [
      "Saving 13.3 x 13.3 in image\n",
      "\n"
     ]
    },
    {
     "name": "stdout",
     "output_type": "stream",
     "text": [
      "[1] \"-----------\"\n",
      "[1] \"2015_IMMUNITY_Martinez___Nfat1_invitro-CD8-PI-1h-Nfat1KO\"\n",
      "[1] \"Peak Annotation\"\n",
      ">> loading peak file...\t\t\t\t 2021-01-22 10:58:15 PM \n",
      ">> preparing features information...\t\t 2021-01-22 10:58:15 PM \n",
      ">> identifying nearest features...\t\t 2021-01-22 10:58:15 PM \n",
      ">> calculating distance from peak to TSS...\t 2021-01-22 10:58:15 PM \n",
      ">> assigning genomic annotation...\t\t 2021-01-22 10:58:15 PM \n",
      ">> adding gene annotation...\t\t\t 2021-01-22 10:58:17 PM \n"
     ]
    },
    {
     "name": "stderr",
     "output_type": "stream",
     "text": [
      "'select()' returned 1:many mapping between keys and columns\n",
      "\n"
     ]
    },
    {
     "name": "stdout",
     "output_type": "stream",
     "text": [
      ">> assigning chromosome lengths\t\t\t 2021-01-22 10:58:17 PM \n",
      ">> done...\t\t\t\t\t 2021-01-22 10:58:17 PM \n",
      "[1] \"Annotation Pie Chart\"\n",
      "[1] \"Pathway analysis\"\n"
     ]
    },
    {
     "name": "stderr",
     "output_type": "stream",
     "text": [
      "Saving 13.3 x 13.3 in image\n",
      "\n"
     ]
    },
    {
     "name": "stdout",
     "output_type": "stream",
     "text": [
      "[1] \"-----------\"\n",
      "[1] \"2015_IMMUNITY_Martinez___Nfat1_invitro-CD8-PI-1h-Nfat1KO-CA-RIT-RV\"\n",
      "[1] \"Peak Annotation\"\n",
      ">> loading peak file...\t\t\t\t 2021-01-22 10:58:22 PM \n",
      ">> preparing features information...\t\t 2021-01-22 10:58:22 PM \n",
      ">> identifying nearest features...\t\t 2021-01-22 10:58:22 PM \n",
      ">> calculating distance from peak to TSS...\t 2021-01-22 10:58:22 PM \n",
      ">> assigning genomic annotation...\t\t 2021-01-22 10:58:22 PM \n",
      ">> adding gene annotation...\t\t\t 2021-01-22 10:58:25 PM \n"
     ]
    },
    {
     "name": "stderr",
     "output_type": "stream",
     "text": [
      "'select()' returned 1:many mapping between keys and columns\n",
      "\n"
     ]
    },
    {
     "name": "stdout",
     "output_type": "stream",
     "text": [
      ">> assigning chromosome lengths\t\t\t 2021-01-22 10:58:25 PM \n",
      ">> done...\t\t\t\t\t 2021-01-22 10:58:25 PM \n",
      "[1] \"Annotation Pie Chart\"\n",
      "[1] \"Pathway analysis\"\n"
     ]
    },
    {
     "name": "stderr",
     "output_type": "stream",
     "text": [
      "Saving 13.3 x 13.3 in image\n",
      "\n"
     ]
    },
    {
     "name": "stdout",
     "output_type": "stream",
     "text": [
      "[1] \"-----------\"\n",
      "[1] \"2015_IMMUNITY_Martinez___Nfat1_invitro-CD8-PI-1h-WT\"\n",
      "[1] \"Peak Annotation\"\n",
      ">> loading peak file...\t\t\t\t 2021-01-22 10:58:30 PM \n",
      ">> preparing features information...\t\t 2021-01-22 10:58:31 PM \n",
      ">> identifying nearest features...\t\t 2021-01-22 10:58:31 PM \n",
      ">> calculating distance from peak to TSS...\t 2021-01-22 10:58:31 PM \n",
      ">> assigning genomic annotation...\t\t 2021-01-22 10:58:31 PM \n",
      ">> adding gene annotation...\t\t\t 2021-01-22 10:58:33 PM \n"
     ]
    },
    {
     "name": "stderr",
     "output_type": "stream",
     "text": [
      "'select()' returned 1:many mapping between keys and columns\n",
      "\n"
     ]
    },
    {
     "name": "stdout",
     "output_type": "stream",
     "text": [
      ">> assigning chromosome lengths\t\t\t 2021-01-22 10:58:33 PM \n",
      ">> done...\t\t\t\t\t 2021-01-22 10:58:33 PM \n",
      "[1] \"Annotation Pie Chart\"\n",
      "[1] \"Pathway analysis\"\n"
     ]
    },
    {
     "name": "stderr",
     "output_type": "stream",
     "text": [
      "Saving 13.3 x 13.3 in image\n",
      "\n"
     ]
    },
    {
     "name": "stdout",
     "output_type": "stream",
     "text": [
      "[1] \"-----------\"\n",
      "[1] \"2015_IMMUNITY_Martinez___Nfat1_invitro-CD8-WT\"\n",
      "[1] \"-----------\"\n",
      "[1] \"2015_JEM_Dominguez___Tbet_LCMVarm-D8-CD8-Il12-WT\"\n",
      "[1] \"Peak Annotation\"\n",
      ">> loading peak file...\t\t\t\t 2021-01-22 10:58:40 PM \n",
      ">> preparing features information...\t\t 2021-01-22 10:58:41 PM \n",
      ">> identifying nearest features...\t\t 2021-01-22 10:58:41 PM \n",
      ">> calculating distance from peak to TSS...\t 2021-01-22 10:58:42 PM \n",
      ">> assigning genomic annotation...\t\t 2021-01-22 10:58:42 PM \n",
      ">> adding gene annotation...\t\t\t 2021-01-22 10:58:45 PM \n"
     ]
    },
    {
     "name": "stderr",
     "output_type": "stream",
     "text": [
      "'select()' returned 1:many mapping between keys and columns\n",
      "\n"
     ]
    },
    {
     "name": "stdout",
     "output_type": "stream",
     "text": [
      ">> assigning chromosome lengths\t\t\t 2021-01-22 10:58:45 PM \n",
      ">> done...\t\t\t\t\t 2021-01-22 10:58:45 PM \n",
      "[1] \"Annotation Pie Chart\"\n",
      "[1] \"Pathway analysis\"\n"
     ]
    },
    {
     "name": "stderr",
     "output_type": "stream",
     "text": [
      "Saving 13.3 x 13.3 in image\n",
      "\n"
     ]
    },
    {
     "name": "stdout",
     "output_type": "stream",
     "text": [
      "[1] \"-----------\"\n",
      "[1] \"2015_JEM_Dominguez___Tbet_LCMVarm-D8-CD8-WT\"\n",
      "[1] \"Peak Annotation\"\n",
      ">> loading peak file...\t\t\t\t 2021-01-22 10:58:51 PM \n",
      ">> preparing features information...\t\t 2021-01-22 10:58:51 PM \n",
      ">> identifying nearest features...\t\t 2021-01-22 10:58:51 PM \n",
      ">> calculating distance from peak to TSS...\t 2021-01-22 10:58:52 PM \n",
      ">> assigning genomic annotation...\t\t 2021-01-22 10:58:52 PM \n",
      ">> adding gene annotation...\t\t\t 2021-01-22 10:58:54 PM \n"
     ]
    },
    {
     "name": "stderr",
     "output_type": "stream",
     "text": [
      "'select()' returned 1:many mapping between keys and columns\n",
      "\n"
     ]
    },
    {
     "name": "stdout",
     "output_type": "stream",
     "text": [
      ">> assigning chromosome lengths\t\t\t 2021-01-22 10:58:54 PM \n",
      ">> done...\t\t\t\t\t 2021-01-22 10:58:54 PM \n",
      "[1] \"Annotation Pie Chart\"\n",
      "[1] \"Pathway analysis\"\n"
     ]
    },
    {
     "name": "stderr",
     "output_type": "stream",
     "text": [
      "Saving 13.3 x 13.3 in image\n",
      "\n"
     ]
    },
    {
     "name": "stdout",
     "output_type": "stream",
     "text": [
      "[1] \"-----------\"\n",
      "[1] \"2015_JEM_Dominguez___Tbet_LCMVarm-D8-CD8-Zeb2KO\"\n",
      "[1] \"Peak Annotation\"\n",
      ">> loading peak file...\t\t\t\t 2021-01-22 10:58:59 PM \n",
      ">> preparing features information...\t\t 2021-01-22 10:58:59 PM \n",
      ">> identifying nearest features...\t\t 2021-01-22 10:58:59 PM \n",
      ">> calculating distance from peak to TSS...\t 2021-01-22 10:58:59 PM \n",
      ">> assigning genomic annotation...\t\t 2021-01-22 10:58:59 PM \n",
      ">> adding gene annotation...\t\t\t 2021-01-22 10:59:02 PM \n"
     ]
    },
    {
     "name": "stderr",
     "output_type": "stream",
     "text": [
      "'select()' returned 1:many mapping between keys and columns\n",
      "\n"
     ]
    },
    {
     "name": "stdout",
     "output_type": "stream",
     "text": [
      ">> assigning chromosome lengths\t\t\t 2021-01-22 10:59:02 PM \n",
      ">> done...\t\t\t\t\t 2021-01-22 10:59:02 PM \n",
      "[1] \"Annotation Pie Chart\"\n",
      "[1] \"Pathway analysis\"\n"
     ]
    },
    {
     "name": "stderr",
     "output_type": "stream",
     "text": [
      "Saving 13.3 x 13.3 in image\n",
      "\n"
     ]
    },
    {
     "name": "stdout",
     "output_type": "stream",
     "text": [
      "[1] \"-----------\"\n",
      "[1] \"2016_NAT_IMMUNOL_Roychoudhuri___JunD_invitro-stim-CD8-Bach2KO\"\n",
      "[1] \"Peak Annotation\"\n",
      ">> loading peak file...\t\t\t\t 2021-01-22 10:59:08 PM \n",
      ">> preparing features information...\t\t 2021-01-22 10:59:08 PM \n",
      ">> identifying nearest features...\t\t 2021-01-22 10:59:08 PM \n",
      ">> calculating distance from peak to TSS...\t 2021-01-22 10:59:08 PM \n",
      ">> assigning genomic annotation...\t\t 2021-01-22 10:59:08 PM \n",
      ">> adding gene annotation...\t\t\t 2021-01-22 10:59:11 PM \n"
     ]
    },
    {
     "name": "stderr",
     "output_type": "stream",
     "text": [
      "'select()' returned 1:many mapping between keys and columns\n",
      "\n"
     ]
    },
    {
     "name": "stdout",
     "output_type": "stream",
     "text": [
      ">> assigning chromosome lengths\t\t\t 2021-01-22 10:59:11 PM \n",
      ">> done...\t\t\t\t\t 2021-01-22 10:59:11 PM \n",
      "[1] \"Annotation Pie Chart\"\n",
      "[1] \"Pathway analysis\"\n"
     ]
    },
    {
     "name": "stderr",
     "output_type": "stream",
     "text": [
      "Saving 13.3 x 13.3 in image\n",
      "\n"
     ]
    },
    {
     "name": "stdout",
     "output_type": "stream",
     "text": [
      "[1] \"-----------\"\n",
      "[1] \"2016_NAT_IMMUNOL_Roychoudhuri___JunD_invitro-stim-CD8-WT\"\n",
      "[1] \"Peak Annotation\"\n",
      ">> loading peak file...\t\t\t\t 2021-01-22 10:59:17 PM \n",
      ">> preparing features information...\t\t 2021-01-22 10:59:17 PM \n",
      ">> identifying nearest features...\t\t 2021-01-22 10:59:17 PM \n",
      ">> calculating distance from peak to TSS...\t 2021-01-22 10:59:17 PM \n",
      ">> assigning genomic annotation...\t\t 2021-01-22 10:59:17 PM \n",
      ">> adding gene annotation...\t\t\t 2021-01-22 10:59:20 PM \n"
     ]
    },
    {
     "name": "stderr",
     "output_type": "stream",
     "text": [
      "'select()' returned 1:many mapping between keys and columns\n",
      "\n"
     ]
    },
    {
     "name": "stdout",
     "output_type": "stream",
     "text": [
      ">> assigning chromosome lengths\t\t\t 2021-01-22 10:59:20 PM \n",
      ">> done...\t\t\t\t\t 2021-01-22 10:59:20 PM \n",
      "[1] \"Annotation Pie Chart\"\n",
      "[1] \"Pathway analysis\"\n"
     ]
    },
    {
     "name": "stderr",
     "output_type": "stream",
     "text": [
      "Saving 13.3 x 13.3 in image\n",
      "\n"
     ]
    },
    {
     "name": "stdout",
     "output_type": "stream",
     "text": [
      "[1] \"-----------\"\n",
      "[1] \"2016_NAT_IMMUNOL_Roychoudhuri___p300_invitro-CD8-WT\"\n",
      "[1] \"Peak Annotation\"\n",
      ">> loading peak file...\t\t\t\t 2021-01-22 10:59:26 PM \n",
      ">> preparing features information...\t\t 2021-01-22 10:59:26 PM \n",
      ">> identifying nearest features...\t\t 2021-01-22 10:59:26 PM \n",
      ">> calculating distance from peak to TSS...\t 2021-01-22 10:59:26 PM \n",
      ">> assigning genomic annotation...\t\t 2021-01-22 10:59:26 PM \n",
      ">> adding gene annotation...\t\t\t 2021-01-22 10:59:28 PM \n"
     ]
    },
    {
     "name": "stderr",
     "output_type": "stream",
     "text": [
      "'select()' returned 1:many mapping between keys and columns\n",
      "\n"
     ]
    },
    {
     "name": "stdout",
     "output_type": "stream",
     "text": [
      ">> assigning chromosome lengths\t\t\t 2021-01-22 10:59:28 PM \n",
      ">> done...\t\t\t\t\t 2021-01-22 10:59:28 PM \n",
      "[1] \"Annotation Pie Chart\"\n",
      "[1] \"Pathway analysis\"\n"
     ]
    },
    {
     "name": "stderr",
     "output_type": "stream",
     "text": [
      "Saving 13.3 x 13.3 in image\n",
      "\n"
     ]
    },
    {
     "name": "stdout",
     "output_type": "stream",
     "text": [
      "[1] \"-----------\"\n",
      "[1] \"2016_NAT_IMMUNOL_Xing___Tcf1_naive-CD8-Tcf1KO\"\n",
      "[1] \"-----------\"\n",
      "[1] \"2016_NAT_IMMUNOL_Xing___Tcf1_naive-CD8-WT\"\n",
      "[1] \"Peak Annotation\"\n",
      ">> loading peak file...\t\t\t\t 2021-01-22 10:59:33 PM \n",
      ">> preparing features information...\t\t 2021-01-22 10:59:33 PM \n",
      ">> identifying nearest features...\t\t 2021-01-22 10:59:33 PM \n",
      ">> calculating distance from peak to TSS...\t 2021-01-22 10:59:34 PM \n",
      ">> assigning genomic annotation...\t\t 2021-01-22 10:59:34 PM \n",
      ">> adding gene annotation...\t\t\t 2021-01-22 10:59:36 PM \n"
     ]
    },
    {
     "name": "stderr",
     "output_type": "stream",
     "text": [
      "'select()' returned 1:many mapping between keys and columns\n",
      "\n"
     ]
    },
    {
     "name": "stdout",
     "output_type": "stream",
     "text": [
      ">> assigning chromosome lengths\t\t\t 2021-01-22 10:59:36 PM \n",
      ">> done...\t\t\t\t\t 2021-01-22 10:59:36 PM \n",
      "[1] \"Annotation Pie Chart\"\n",
      "[1] \"Pathway analysis\"\n"
     ]
    },
    {
     "name": "stderr",
     "output_type": "stream",
     "text": [
      "Saving 13.3 x 13.3 in image\n",
      "\n"
     ]
    },
    {
     "name": "stdout",
     "output_type": "stream",
     "text": [
      "[1] \"-----------\"\n",
      "[1] \"2016_SCIENCE_Mackay___Blimp1-Bio_invitro-CD8\"\n",
      "[1] \"Peak Annotation\"\n",
      ">> loading peak file...\t\t\t\t 2021-01-22 10:59:42 PM \n",
      ">> preparing features information...\t\t 2021-01-22 10:59:42 PM \n",
      ">> identifying nearest features...\t\t 2021-01-22 10:59:42 PM \n",
      ">> calculating distance from peak to TSS...\t 2021-01-22 10:59:42 PM \n",
      ">> assigning genomic annotation...\t\t 2021-01-22 10:59:42 PM \n",
      ">> adding gene annotation...\t\t\t 2021-01-22 10:59:45 PM \n"
     ]
    },
    {
     "name": "stderr",
     "output_type": "stream",
     "text": [
      "'select()' returned 1:many mapping between keys and columns\n",
      "\n"
     ]
    },
    {
     "name": "stdout",
     "output_type": "stream",
     "text": [
      ">> assigning chromosome lengths\t\t\t 2021-01-22 10:59:45 PM \n",
      ">> done...\t\t\t\t\t 2021-01-22 10:59:45 PM \n",
      "[1] \"Annotation Pie Chart\"\n",
      "[1] \"Pathway analysis\"\n"
     ]
    },
    {
     "name": "stderr",
     "output_type": "stream",
     "text": [
      "Saving 13.3 x 13.3 in image\n",
      "\n"
     ]
    },
    {
     "name": "stdout",
     "output_type": "stream",
     "text": [
      "[1] \"-----------\"\n",
      "[1] \"2016_SCIENCE_Mackay___Hobit_invitro-CD8\"\n",
      "[1] \"Peak Annotation\"\n",
      ">> loading peak file...\t\t\t\t 2021-01-22 10:59:50 PM \n",
      ">> preparing features information...\t\t 2021-01-22 10:59:50 PM \n",
      ">> identifying nearest features...\t\t 2021-01-22 10:59:50 PM \n",
      ">> calculating distance from peak to TSS...\t 2021-01-22 10:59:50 PM \n",
      ">> assigning genomic annotation...\t\t 2021-01-22 10:59:50 PM \n",
      ">> adding gene annotation...\t\t\t 2021-01-22 10:59:53 PM \n"
     ]
    },
    {
     "name": "stderr",
     "output_type": "stream",
     "text": [
      "'select()' returned 1:many mapping between keys and columns\n",
      "\n"
     ]
    },
    {
     "name": "stdout",
     "output_type": "stream",
     "text": [
      ">> assigning chromosome lengths\t\t\t 2021-01-22 10:59:53 PM \n",
      ">> done...\t\t\t\t\t 2021-01-22 10:59:53 PM \n",
      "[1] \"Annotation Pie Chart\"\n",
      "[1] \"Pathway analysis\"\n"
     ]
    },
    {
     "name": "stderr",
     "output_type": "stream",
     "text": [
      "Saving 13.3 x 13.3 in image\n",
      "\n"
     ]
    },
    {
     "name": "stdout",
     "output_type": "stream",
     "text": [
      "[1] \"-----------\"\n",
      "[1] \"2017_NAT_IMMUNOL_Shan___CBFb_LCMVarmD8_P14-CD8-WT\"\n",
      "[1] \"Peak Annotation\"\n",
      ">> loading peak file...\t\t\t\t 2021-01-22 10:59:58 PM \n",
      ">> preparing features information...\t\t 2021-01-22 10:59:58 PM \n",
      ">> identifying nearest features...\t\t 2021-01-22 10:59:58 PM \n",
      ">> calculating distance from peak to TSS...\t 2021-01-22 10:59:58 PM \n",
      ">> assigning genomic annotation...\t\t 2021-01-22 10:59:58 PM \n",
      ">> adding gene annotation...\t\t\t 2021-01-22 11:00:01 PM \n"
     ]
    },
    {
     "name": "stderr",
     "output_type": "stream",
     "text": [
      "'select()' returned 1:many mapping between keys and columns\n",
      "\n"
     ]
    },
    {
     "name": "stdout",
     "output_type": "stream",
     "text": [
      ">> assigning chromosome lengths\t\t\t 2021-01-22 11:00:01 PM \n",
      ">> done...\t\t\t\t\t 2021-01-22 11:00:01 PM \n",
      "[1] \"Annotation Pie Chart\"\n",
      "[1] \"Pathway analysis\"\n"
     ]
    },
    {
     "name": "stderr",
     "output_type": "stream",
     "text": [
      "Saving 13.3 x 13.3 in image\n",
      "\n"
     ]
    },
    {
     "name": "stdout",
     "output_type": "stream",
     "text": [
      "[1] \"-----------\"\n",
      "[1] \"2017_NAT_IMMUNOL_Shan___CBFb_Naive_P14-CD8-CbfbKO\"\n",
      "[1] \"Peak Annotation\"\n",
      ">> loading peak file...\t\t\t\t 2021-01-22 11:00:06 PM \n",
      ">> preparing features information...\t\t 2021-01-22 11:00:06 PM \n",
      ">> identifying nearest features...\t\t 2021-01-22 11:00:06 PM \n",
      ">> calculating distance from peak to TSS...\t 2021-01-22 11:00:08 PM \n",
      ">> assigning genomic annotation...\t\t 2021-01-22 11:00:08 PM \n",
      ">> adding gene annotation...\t\t\t 2021-01-22 11:00:09 PM \n"
     ]
    },
    {
     "name": "stderr",
     "output_type": "stream",
     "text": [
      "'select()' returned 1:many mapping between keys and columns\n",
      "\n"
     ]
    },
    {
     "name": "stdout",
     "output_type": "stream",
     "text": [
      ">> assigning chromosome lengths\t\t\t 2021-01-22 11:00:09 PM \n",
      ">> done...\t\t\t\t\t 2021-01-22 11:00:09 PM \n",
      "[1] \"Annotation Pie Chart\"\n",
      "[1] \"Pathway analysis\"\n"
     ]
    },
    {
     "name": "stderr",
     "output_type": "stream",
     "text": [
      "Saving 13.3 x 13.3 in image\n",
      "\n"
     ]
    },
    {
     "name": "stdout",
     "output_type": "stream",
     "text": [
      "[1] \"-----------\"\n",
      "[1] \"2017_NAT_IMMUNOL_Shan___CBFb_Naive_P14-CD8-WT\"\n",
      "[1] \"Peak Annotation\"\n",
      ">> loading peak file...\t\t\t\t 2021-01-22 11:00:14 PM \n",
      ">> preparing features information...\t\t 2021-01-22 11:00:14 PM \n",
      ">> identifying nearest features...\t\t 2021-01-22 11:00:14 PM \n",
      ">> calculating distance from peak to TSS...\t 2021-01-22 11:00:14 PM \n",
      ">> assigning genomic annotation...\t\t 2021-01-22 11:00:14 PM \n",
      ">> adding gene annotation...\t\t\t 2021-01-22 11:00:16 PM \n"
     ]
    },
    {
     "name": "stderr",
     "output_type": "stream",
     "text": [
      "'select()' returned 1:many mapping between keys and columns\n",
      "\n"
     ]
    },
    {
     "name": "stdout",
     "output_type": "stream",
     "text": [
      ">> assigning chromosome lengths\t\t\t 2021-01-22 11:00:17 PM \n",
      ">> done...\t\t\t\t\t 2021-01-22 11:00:17 PM \n",
      "[1] \"Annotation Pie Chart\"\n",
      "[1] \"Pathway analysis\"\n"
     ]
    },
    {
     "name": "stderr",
     "output_type": "stream",
     "text": [
      "Saving 13.3 x 13.3 in image\n",
      "\n"
     ]
    },
    {
     "name": "stdout",
     "output_type": "stream",
     "text": [
      "[1] \"-----------\"\n",
      "[1] \"2017_NAT_IMMUNOL_Shan___H3K27Ac_LCMVarmD4-P14-CD8-Runx3KO\"\n",
      "[1] \"Peak Annotation\"\n",
      ">> loading peak file...\t\t\t\t 2021-01-22 11:00:22 PM \n",
      ">> preparing features information...\t\t 2021-01-22 11:00:23 PM \n",
      ">> identifying nearest features...\t\t 2021-01-22 11:00:23 PM \n",
      ">> calculating distance from peak to TSS...\t 2021-01-22 11:00:24 PM \n",
      ">> assigning genomic annotation...\t\t 2021-01-22 11:00:24 PM \n",
      ">> adding gene annotation...\t\t\t 2021-01-22 11:00:26 PM \n"
     ]
    },
    {
     "name": "stderr",
     "output_type": "stream",
     "text": [
      "'select()' returned 1:many mapping between keys and columns\n",
      "\n"
     ]
    },
    {
     "name": "stdout",
     "output_type": "stream",
     "text": [
      ">> assigning chromosome lengths\t\t\t 2021-01-22 11:00:26 PM \n",
      ">> done...\t\t\t\t\t 2021-01-22 11:00:26 PM \n",
      "[1] \"Annotation Pie Chart\"\n",
      "[1] \"Pathway analysis\"\n"
     ]
    },
    {
     "name": "stderr",
     "output_type": "stream",
     "text": [
      "Saving 13.3 x 13.3 in image\n",
      "\n"
     ]
    },
    {
     "name": "stdout",
     "output_type": "stream",
     "text": [
      "[1] \"-----------\"\n",
      "[1] \"2017_NAT_IMMUNOL_Shan___H3K27Ac_LCMVarmD4-P14-CD8-WT\"\n",
      "[1] \"Peak Annotation\"\n",
      ">> loading peak file...\t\t\t\t 2021-01-22 11:00:33 PM \n",
      ">> preparing features information...\t\t 2021-01-22 11:00:33 PM \n",
      ">> identifying nearest features...\t\t 2021-01-22 11:00:33 PM \n",
      ">> calculating distance from peak to TSS...\t 2021-01-22 11:00:34 PM \n",
      ">> assigning genomic annotation...\t\t 2021-01-22 11:00:34 PM \n",
      ">> adding gene annotation...\t\t\t 2021-01-22 11:00:36 PM \n"
     ]
    },
    {
     "name": "stderr",
     "output_type": "stream",
     "text": [
      "'select()' returned 1:many mapping between keys and columns\n",
      "\n"
     ]
    },
    {
     "name": "stdout",
     "output_type": "stream",
     "text": [
      ">> assigning chromosome lengths\t\t\t 2021-01-22 11:00:36 PM \n",
      ">> done...\t\t\t\t\t 2021-01-22 11:00:36 PM \n",
      "[1] \"Annotation Pie Chart\"\n",
      "[1] \"Pathway analysis\"\n"
     ]
    },
    {
     "name": "stderr",
     "output_type": "stream",
     "text": [
      "Saving 13.3 x 13.3 in image\n",
      "\n"
     ]
    },
    {
     "name": "stdout",
     "output_type": "stream",
     "text": [
      "[1] \"-----------\"\n",
      "[1] \"2017_NAT_IMMUNOL_Shan___H3K27Me3_LCMVarmD4-P14-CD8-Runx3KO\"\n",
      "[1] \"Peak Annotation\"\n",
      ">> loading peak file...\t\t\t\t 2021-01-22 11:00:42 PM \n",
      ">> preparing features information...\t\t 2021-01-22 11:00:43 PM \n",
      ">> identifying nearest features...\t\t 2021-01-22 11:00:43 PM \n",
      ">> calculating distance from peak to TSS...\t 2021-01-22 11:00:44 PM \n",
      ">> assigning genomic annotation...\t\t 2021-01-22 11:00:44 PM \n",
      ">> adding gene annotation...\t\t\t 2021-01-22 11:00:46 PM \n"
     ]
    },
    {
     "name": "stderr",
     "output_type": "stream",
     "text": [
      "'select()' returned 1:many mapping between keys and columns\n",
      "\n"
     ]
    },
    {
     "name": "stdout",
     "output_type": "stream",
     "text": [
      ">> assigning chromosome lengths\t\t\t 2021-01-22 11:00:46 PM \n",
      ">> done...\t\t\t\t\t 2021-01-22 11:00:46 PM \n",
      "[1] \"Annotation Pie Chart\"\n",
      "[1] \"Pathway analysis\"\n"
     ]
    },
    {
     "name": "stderr",
     "output_type": "stream",
     "text": [
      "Saving 13.3 x 13.3 in image\n",
      "\n"
     ]
    },
    {
     "name": "stdout",
     "output_type": "stream",
     "text": [
      "[1] \"-----------\"\n",
      "[1] \"2017_NAT_IMMUNOL_Shan___H3K27Me3_LCMVarmD4-P14-CD8-WT\"\n",
      "[1] \"Peak Annotation\"\n",
      ">> loading peak file...\t\t\t\t 2021-01-22 11:00:53 PM \n",
      ">> preparing features information...\t\t 2021-01-22 11:00:53 PM \n",
      ">> identifying nearest features...\t\t 2021-01-22 11:00:53 PM \n",
      ">> calculating distance from peak to TSS...\t 2021-01-22 11:00:54 PM \n",
      ">> assigning genomic annotation...\t\t 2021-01-22 11:00:54 PM \n",
      ">> adding gene annotation...\t\t\t 2021-01-22 11:00:57 PM \n"
     ]
    },
    {
     "name": "stderr",
     "output_type": "stream",
     "text": [
      "'select()' returned 1:many mapping between keys and columns\n",
      "\n"
     ]
    },
    {
     "name": "stdout",
     "output_type": "stream",
     "text": [
      ">> assigning chromosome lengths\t\t\t 2021-01-22 11:00:57 PM \n",
      ">> done...\t\t\t\t\t 2021-01-22 11:00:57 PM \n",
      "[1] \"Annotation Pie Chart\"\n",
      "[1] \"Pathway analysis\"\n"
     ]
    },
    {
     "name": "stderr",
     "output_type": "stream",
     "text": [
      "Saving 13.3 x 13.3 in image\n",
      "\n"
     ]
    },
    {
     "name": "stdout",
     "output_type": "stream",
     "text": [
      "[1] \"-----------\"\n",
      "[1] \"2017_NAT_IMMUNOL_Shan___H3K4Me1_LCMVarmD4-P14-CD8-Runx3KO\"\n",
      "[1] \"Peak Annotation\"\n",
      ">> loading peak file...\t\t\t\t 2021-01-22 11:01:03 PM \n",
      ">> preparing features information...\t\t 2021-01-22 11:01:04 PM \n",
      ">> identifying nearest features...\t\t 2021-01-22 11:01:04 PM \n",
      ">> calculating distance from peak to TSS...\t 2021-01-22 11:01:04 PM \n",
      ">> assigning genomic annotation...\t\t 2021-01-22 11:01:04 PM \n",
      ">> adding gene annotation...\t\t\t 2021-01-22 11:01:07 PM \n"
     ]
    },
    {
     "name": "stderr",
     "output_type": "stream",
     "text": [
      "'select()' returned 1:many mapping between keys and columns\n",
      "\n"
     ]
    },
    {
     "name": "stdout",
     "output_type": "stream",
     "text": [
      ">> assigning chromosome lengths\t\t\t 2021-01-22 11:01:07 PM \n",
      ">> done...\t\t\t\t\t 2021-01-22 11:01:07 PM \n",
      "[1] \"Annotation Pie Chart\"\n",
      "[1] \"Pathway analysis\"\n"
     ]
    },
    {
     "name": "stderr",
     "output_type": "stream",
     "text": [
      "Saving 13.3 x 13.3 in image\n",
      "\n"
     ]
    },
    {
     "name": "stdout",
     "output_type": "stream",
     "text": [
      "[1] \"-----------\"\n",
      "[1] \"2017_NAT_IMMUNOL_Shan___H3K4Me1_LCMVarmD4-P14-CD8-WT\"\n",
      "[1] \"-----------\"\n",
      "[1] \"2017_NAT_IMMUNOL_Shan___H3K4Me3_LCMVarmD4-P14-CD8-Runx3KO\"\n",
      "[1] \"Peak Annotation\"\n",
      ">> loading peak file...\t\t\t\t 2021-01-22 11:01:13 PM \n",
      ">> preparing features information...\t\t 2021-01-22 11:01:14 PM \n",
      ">> identifying nearest features...\t\t 2021-01-22 11:01:14 PM \n",
      ">> calculating distance from peak to TSS...\t 2021-01-22 11:01:15 PM \n",
      ">> assigning genomic annotation...\t\t 2021-01-22 11:01:15 PM \n",
      ">> adding gene annotation...\t\t\t 2021-01-22 11:01:17 PM \n"
     ]
    },
    {
     "name": "stderr",
     "output_type": "stream",
     "text": [
      "'select()' returned 1:many mapping between keys and columns\n",
      "\n"
     ]
    },
    {
     "name": "stdout",
     "output_type": "stream",
     "text": [
      ">> assigning chromosome lengths\t\t\t 2021-01-22 11:01:17 PM \n",
      ">> done...\t\t\t\t\t 2021-01-22 11:01:17 PM \n",
      "[1] \"Annotation Pie Chart\"\n",
      "[1] \"Pathway analysis\"\n"
     ]
    },
    {
     "name": "stderr",
     "output_type": "stream",
     "text": [
      "Saving 13.3 x 13.3 in image\n",
      "\n"
     ]
    },
    {
     "name": "stdout",
     "output_type": "stream",
     "text": [
      "[1] \"-----------\"\n",
      "[1] \"2017_NAT_IMMUNOL_Shan___H3K4Me3_LCMVarmD4-P14-CD8-WT\"\n",
      "[1] \"Peak Annotation\"\n",
      ">> loading peak file...\t\t\t\t 2021-01-22 11:01:24 PM \n",
      ">> preparing features information...\t\t 2021-01-22 11:01:25 PM \n",
      ">> identifying nearest features...\t\t 2021-01-22 11:01:25 PM \n",
      ">> calculating distance from peak to TSS...\t 2021-01-22 11:01:26 PM \n",
      ">> assigning genomic annotation...\t\t 2021-01-22 11:01:26 PM \n",
      ">> adding gene annotation...\t\t\t 2021-01-22 11:01:28 PM \n"
     ]
    },
    {
     "name": "stderr",
     "output_type": "stream",
     "text": [
      "'select()' returned 1:many mapping between keys and columns\n",
      "\n"
     ]
    },
    {
     "name": "stdout",
     "output_type": "stream",
     "text": [
      ">> assigning chromosome lengths\t\t\t 2021-01-22 11:01:29 PM \n",
      ">> done...\t\t\t\t\t 2021-01-22 11:01:29 PM \n",
      "[1] \"Annotation Pie Chart\"\n",
      "[1] \"Pathway analysis\"\n"
     ]
    },
    {
     "name": "stderr",
     "output_type": "stream",
     "text": [
      "Saving 13.3 x 13.3 in image\n",
      "\n"
     ]
    },
    {
     "name": "stdout",
     "output_type": "stream",
     "text": [
      "[1] \"-----------\"\n",
      "[1] \"2017_NAT_IMMUNOL_Yu___H3K27ac_P14-CD8-Memory\"\n",
      "[1] \"Peak Annotation\"\n",
      ">> loading peak file...\t\t\t\t 2021-01-22 11:01:35 PM \n",
      ">> preparing features information...\t\t 2021-01-22 11:01:35 PM \n",
      ">> identifying nearest features...\t\t 2021-01-22 11:01:35 PM \n",
      ">> calculating distance from peak to TSS...\t 2021-01-22 11:01:36 PM \n",
      ">> assigning genomic annotation...\t\t 2021-01-22 11:01:36 PM \n",
      ">> adding gene annotation...\t\t\t 2021-01-22 11:01:38 PM \n"
     ]
    },
    {
     "name": "stderr",
     "output_type": "stream",
     "text": [
      "'select()' returned 1:many mapping between keys and columns\n",
      "\n"
     ]
    },
    {
     "name": "stdout",
     "output_type": "stream",
     "text": [
      ">> assigning chromosome lengths\t\t\t 2021-01-22 11:01:38 PM \n",
      ">> done...\t\t\t\t\t 2021-01-22 11:01:38 PM \n",
      "[1] \"Annotation Pie Chart\"\n",
      "[1] \"Pathway analysis\"\n"
     ]
    },
    {
     "name": "stderr",
     "output_type": "stream",
     "text": [
      "Saving 13.3 x 13.3 in image\n",
      "\n"
     ]
    },
    {
     "name": "stdout",
     "output_type": "stream",
     "text": [
      "[1] \"-----------\"\n",
      "[1] \"2017_NAT_IMMUNOL_Yu___H3K27ac_P14-CD8-MP\"\n",
      "[1] \"Peak Annotation\"\n",
      ">> loading peak file...\t\t\t\t 2021-01-22 11:01:44 PM \n",
      ">> preparing features information...\t\t 2021-01-22 11:01:45 PM \n",
      ">> identifying nearest features...\t\t 2021-01-22 11:01:45 PM \n",
      ">> calculating distance from peak to TSS...\t 2021-01-22 11:01:46 PM \n",
      ">> assigning genomic annotation...\t\t 2021-01-22 11:01:46 PM \n",
      ">> adding gene annotation...\t\t\t 2021-01-22 11:01:49 PM \n"
     ]
    },
    {
     "name": "stderr",
     "output_type": "stream",
     "text": [
      "'select()' returned 1:many mapping between keys and columns\n",
      "\n"
     ]
    },
    {
     "name": "stdout",
     "output_type": "stream",
     "text": [
      ">> assigning chromosome lengths\t\t\t 2021-01-22 11:01:49 PM \n",
      ">> done...\t\t\t\t\t 2021-01-22 11:01:49 PM \n",
      "[1] \"Annotation Pie Chart\"\n",
      "[1] \"Pathway analysis\"\n"
     ]
    },
    {
     "name": "stderr",
     "output_type": "stream",
     "text": [
      "Saving 13.3 x 13.3 in image\n",
      "\n"
     ]
    },
    {
     "name": "stdout",
     "output_type": "stream",
     "text": [
      "[1] \"-----------\"\n",
      "[1] \"2017_NAT_IMMUNOL_Yu___H3K27ac_P14-CD8-TE\"\n",
      "[1] \"Peak Annotation\"\n",
      ">> loading peak file...\t\t\t\t 2021-01-22 11:01:55 PM \n",
      ">> preparing features information...\t\t 2021-01-22 11:01:56 PM \n",
      ">> identifying nearest features...\t\t 2021-01-22 11:01:56 PM \n",
      ">> calculating distance from peak to TSS...\t 2021-01-22 11:01:57 PM \n",
      ">> assigning genomic annotation...\t\t 2021-01-22 11:01:57 PM \n",
      ">> adding gene annotation...\t\t\t 2021-01-22 11:02:00 PM \n"
     ]
    },
    {
     "name": "stderr",
     "output_type": "stream",
     "text": [
      "'select()' returned 1:many mapping between keys and columns\n",
      "\n"
     ]
    },
    {
     "name": "stdout",
     "output_type": "stream",
     "text": [
      ">> assigning chromosome lengths\t\t\t 2021-01-22 11:02:00 PM \n",
      ">> done...\t\t\t\t\t 2021-01-22 11:02:00 PM \n",
      "[1] \"Annotation Pie Chart\"\n",
      "[1] \"Pathway analysis\"\n"
     ]
    },
    {
     "name": "stderr",
     "output_type": "stream",
     "text": [
      "Saving 13.3 x 13.3 in image\n",
      "\n"
     ]
    },
    {
     "name": "stdout",
     "output_type": "stream",
     "text": [
      "[1] \"-----------\"\n",
      "[1] \"2017_NAT_IMMUNOL_Yu___H3K27ac_P14-CD8-TN\"\n",
      "[1] \"Peak Annotation\"\n",
      ">> loading peak file...\t\t\t\t 2021-01-22 11:02:07 PM \n",
      ">> preparing features information...\t\t 2021-01-22 11:02:07 PM \n",
      ">> identifying nearest features...\t\t 2021-01-22 11:02:07 PM \n",
      ">> calculating distance from peak to TSS...\t 2021-01-22 11:02:07 PM \n",
      ">> assigning genomic annotation...\t\t 2021-01-22 11:02:07 PM \n",
      ">> adding gene annotation...\t\t\t 2021-01-22 11:02:10 PM \n"
     ]
    },
    {
     "name": "stderr",
     "output_type": "stream",
     "text": [
      "'select()' returned 1:many mapping between keys and columns\n",
      "\n"
     ]
    },
    {
     "name": "stdout",
     "output_type": "stream",
     "text": [
      ">> assigning chromosome lengths\t\t\t 2021-01-22 11:02:10 PM \n",
      ">> done...\t\t\t\t\t 2021-01-22 11:02:10 PM \n",
      "[1] \"Annotation Pie Chart\"\n",
      "[1] \"Pathway analysis\"\n"
     ]
    },
    {
     "name": "stderr",
     "output_type": "stream",
     "text": [
      "Saving 13.3 x 13.3 in image\n",
      "\n"
     ]
    },
    {
     "name": "stdout",
     "output_type": "stream",
     "text": [
      "[1] \"-----------\"\n",
      "[1] \"2017_NAT_IMMUNOL_Yu___H3K27me3_P14-CD8-Memory\"\n",
      "[1] \"Peak Annotation\"\n",
      ">> loading peak file...\t\t\t\t 2021-01-22 11:02:16 PM \n",
      ">> preparing features information...\t\t 2021-01-22 11:02:16 PM \n",
      ">> identifying nearest features...\t\t 2021-01-22 11:02:16 PM \n",
      ">> calculating distance from peak to TSS...\t 2021-01-22 11:02:17 PM \n",
      ">> assigning genomic annotation...\t\t 2021-01-22 11:02:17 PM \n",
      ">> adding gene annotation...\t\t\t 2021-01-22 11:02:19 PM \n"
     ]
    },
    {
     "name": "stderr",
     "output_type": "stream",
     "text": [
      "'select()' returned 1:many mapping between keys and columns\n",
      "\n"
     ]
    },
    {
     "name": "stdout",
     "output_type": "stream",
     "text": [
      ">> assigning chromosome lengths\t\t\t 2021-01-22 11:02:19 PM \n",
      ">> done...\t\t\t\t\t 2021-01-22 11:02:19 PM \n",
      "[1] \"Annotation Pie Chart\"\n",
      "[1] \"Pathway analysis\"\n"
     ]
    },
    {
     "name": "stderr",
     "output_type": "stream",
     "text": [
      "Saving 13.3 x 13.3 in image\n",
      "\n"
     ]
    },
    {
     "name": "stdout",
     "output_type": "stream",
     "text": [
      "[1] \"-----------\"\n",
      "[1] \"2017_NAT_IMMUNOL_Yu___H3K27me3_P14-CD8-MP\"\n",
      "[1] \"Peak Annotation\"\n",
      ">> loading peak file...\t\t\t\t 2021-01-22 11:02:26 PM \n",
      ">> preparing features information...\t\t 2021-01-22 11:02:27 PM \n",
      ">> identifying nearest features...\t\t 2021-01-22 11:02:27 PM \n",
      ">> calculating distance from peak to TSS...\t 2021-01-22 11:02:28 PM \n",
      ">> assigning genomic annotation...\t\t 2021-01-22 11:02:28 PM \n",
      ">> adding gene annotation...\t\t\t 2021-01-22 11:02:30 PM \n"
     ]
    },
    {
     "name": "stderr",
     "output_type": "stream",
     "text": [
      "'select()' returned 1:many mapping between keys and columns\n",
      "\n"
     ]
    },
    {
     "name": "stdout",
     "output_type": "stream",
     "text": [
      ">> assigning chromosome lengths\t\t\t 2021-01-22 11:02:30 PM \n",
      ">> done...\t\t\t\t\t 2021-01-22 11:02:30 PM \n",
      "[1] \"Annotation Pie Chart\"\n",
      "[1] \"Pathway analysis\"\n"
     ]
    },
    {
     "name": "stderr",
     "output_type": "stream",
     "text": [
      "Saving 13.3 x 13.3 in image\n",
      "\n"
     ]
    },
    {
     "name": "stdout",
     "output_type": "stream",
     "text": [
      "[1] \"-----------\"\n",
      "[1] \"2017_NAT_IMMUNOL_Yu___H3K27me3_P14-CD8-TE\"\n",
      "[1] \"Peak Annotation\"\n",
      ">> loading peak file...\t\t\t\t 2021-01-22 11:02:36 PM \n",
      ">> preparing features information...\t\t 2021-01-22 11:02:37 PM \n",
      ">> identifying nearest features...\t\t 2021-01-22 11:02:37 PM \n",
      ">> calculating distance from peak to TSS...\t 2021-01-22 11:02:38 PM \n",
      ">> assigning genomic annotation...\t\t 2021-01-22 11:02:38 PM \n",
      ">> adding gene annotation...\t\t\t 2021-01-22 11:02:41 PM \n"
     ]
    },
    {
     "name": "stderr",
     "output_type": "stream",
     "text": [
      "'select()' returned 1:many mapping between keys and columns\n",
      "\n"
     ]
    },
    {
     "name": "stdout",
     "output_type": "stream",
     "text": [
      ">> assigning chromosome lengths\t\t\t 2021-01-22 11:02:41 PM \n",
      ">> done...\t\t\t\t\t 2021-01-22 11:02:41 PM \n",
      "[1] \"Annotation Pie Chart\"\n",
      "[1] \"Pathway analysis\"\n"
     ]
    },
    {
     "name": "stderr",
     "output_type": "stream",
     "text": [
      "Saving 13.3 x 13.3 in image\n",
      "\n"
     ]
    },
    {
     "name": "stdout",
     "output_type": "stream",
     "text": [
      "[1] \"-----------\"\n",
      "[1] \"2017_NAT_IMMUNOL_Yu___H3K27me3_P14-CD8-TN\"\n",
      "[1] \"Peak Annotation\"\n",
      ">> loading peak file...\t\t\t\t 2021-01-22 11:02:47 PM \n",
      ">> preparing features information...\t\t 2021-01-22 11:02:47 PM \n",
      ">> identifying nearest features...\t\t 2021-01-22 11:02:47 PM \n",
      ">> calculating distance from peak to TSS...\t 2021-01-22 11:02:47 PM \n",
      ">> assigning genomic annotation...\t\t 2021-01-22 11:02:47 PM \n",
      ">> adding gene annotation...\t\t\t 2021-01-22 11:02:50 PM \n"
     ]
    },
    {
     "name": "stderr",
     "output_type": "stream",
     "text": [
      "'select()' returned 1:many mapping between keys and columns\n",
      "\n"
     ]
    },
    {
     "name": "stdout",
     "output_type": "stream",
     "text": [
      ">> assigning chromosome lengths\t\t\t 2021-01-22 11:02:50 PM \n",
      ">> done...\t\t\t\t\t 2021-01-22 11:02:50 PM \n",
      "[1] \"Annotation Pie Chart\"\n",
      "[1] \"Pathway analysis\"\n"
     ]
    },
    {
     "name": "stderr",
     "output_type": "stream",
     "text": [
      "Saving 13.3 x 13.3 in image\n",
      "\n"
     ]
    },
    {
     "name": "stdout",
     "output_type": "stream",
     "text": [
      "[1] \"-----------\"\n",
      "[1] \"2017_NAT_IMMUNOL_Yu___H3K4me1_P14-CD8-Memory\"\n",
      "[1] \"Peak Annotation\"\n",
      ">> loading peak file...\t\t\t\t 2021-01-22 11:02:56 PM \n",
      ">> preparing features information...\t\t 2021-01-22 11:02:57 PM \n",
      ">> identifying nearest features...\t\t 2021-01-22 11:02:57 PM \n",
      ">> calculating distance from peak to TSS...\t 2021-01-22 11:02:59 PM \n",
      ">> assigning genomic annotation...\t\t 2021-01-22 11:02:59 PM \n",
      ">> adding gene annotation...\t\t\t 2021-01-22 11:03:02 PM \n"
     ]
    },
    {
     "name": "stderr",
     "output_type": "stream",
     "text": [
      "'select()' returned 1:many mapping between keys and columns\n",
      "\n"
     ]
    },
    {
     "name": "stdout",
     "output_type": "stream",
     "text": [
      ">> assigning chromosome lengths\t\t\t 2021-01-22 11:03:02 PM \n",
      ">> done...\t\t\t\t\t 2021-01-22 11:03:02 PM \n",
      "[1] \"Annotation Pie Chart\"\n",
      "[1] \"Pathway analysis\"\n"
     ]
    },
    {
     "name": "stderr",
     "output_type": "stream",
     "text": [
      "Saving 13.3 x 13.3 in image\n",
      "\n"
     ]
    },
    {
     "name": "stdout",
     "output_type": "stream",
     "text": [
      "[1] \"-----------\"\n",
      "[1] \"2017_NAT_IMMUNOL_Yu___H3K4me1_P14-CD8-MP\"\n",
      "[1] \"Peak Annotation\"\n",
      ">> loading peak file...\t\t\t\t 2021-01-22 11:03:10 PM \n",
      ">> preparing features information...\t\t 2021-01-22 11:03:11 PM \n",
      ">> identifying nearest features...\t\t 2021-01-22 11:03:11 PM \n",
      ">> calculating distance from peak to TSS...\t 2021-01-22 11:03:13 PM \n",
      ">> assigning genomic annotation...\t\t 2021-01-22 11:03:13 PM \n",
      ">> adding gene annotation...\t\t\t 2021-01-22 11:03:16 PM \n"
     ]
    },
    {
     "name": "stderr",
     "output_type": "stream",
     "text": [
      "'select()' returned 1:many mapping between keys and columns\n",
      "\n"
     ]
    },
    {
     "name": "stdout",
     "output_type": "stream",
     "text": [
      ">> assigning chromosome lengths\t\t\t 2021-01-22 11:03:16 PM \n",
      ">> done...\t\t\t\t\t 2021-01-22 11:03:16 PM \n",
      "[1] \"Annotation Pie Chart\"\n",
      "[1] \"Pathway analysis\"\n"
     ]
    },
    {
     "name": "stderr",
     "output_type": "stream",
     "text": [
      "Saving 13.3 x 13.3 in image\n",
      "\n"
     ]
    },
    {
     "name": "stdout",
     "output_type": "stream",
     "text": [
      "[1] \"-----------\"\n",
      "[1] \"2017_NAT_IMMUNOL_Yu___H3K4me1_P14-CD8-TE\"\n",
      "[1] \"Peak Annotation\"\n",
      ">> loading peak file...\t\t\t\t 2021-01-22 11:03:25 PM \n",
      ">> preparing features information...\t\t 2021-01-22 11:03:28 PM \n",
      ">> identifying nearest features...\t\t 2021-01-22 11:03:28 PM \n",
      ">> calculating distance from peak to TSS...\t 2021-01-22 11:03:32 PM \n",
      ">> assigning genomic annotation...\t\t 2021-01-22 11:03:32 PM \n",
      ">> adding gene annotation...\t\t\t 2021-01-22 11:03:36 PM \n"
     ]
    },
    {
     "name": "stderr",
     "output_type": "stream",
     "text": [
      "'select()' returned 1:many mapping between keys and columns\n",
      "\n"
     ]
    },
    {
     "name": "stdout",
     "output_type": "stream",
     "text": [
      ">> assigning chromosome lengths\t\t\t 2021-01-22 11:03:37 PM \n",
      ">> done...\t\t\t\t\t 2021-01-22 11:03:37 PM \n",
      "[1] \"Annotation Pie Chart\"\n",
      "[1] \"Pathway analysis\"\n"
     ]
    },
    {
     "name": "stderr",
     "output_type": "stream",
     "text": [
      "Saving 13.3 x 13.3 in image\n",
      "\n"
     ]
    },
    {
     "name": "stdout",
     "output_type": "stream",
     "text": [
      "[1] \"-----------\"\n",
      "[1] \"2017_NAT_IMMUNOL_Yu___H3K4me1_P14-CD8-TN\"\n",
      "[1] \"Peak Annotation\"\n",
      ">> loading peak file...\t\t\t\t 2021-01-22 11:03:45 PM \n",
      ">> preparing features information...\t\t 2021-01-22 11:03:46 PM \n",
      ">> identifying nearest features...\t\t 2021-01-22 11:03:46 PM \n",
      ">> calculating distance from peak to TSS...\t 2021-01-22 11:03:48 PM \n",
      ">> assigning genomic annotation...\t\t 2021-01-22 11:03:48 PM \n",
      ">> adding gene annotation...\t\t\t 2021-01-22 11:03:51 PM \n"
     ]
    },
    {
     "name": "stderr",
     "output_type": "stream",
     "text": [
      "'select()' returned 1:many mapping between keys and columns\n",
      "\n"
     ]
    },
    {
     "name": "stdout",
     "output_type": "stream",
     "text": [
      ">> assigning chromosome lengths\t\t\t 2021-01-22 11:03:51 PM \n",
      ">> done...\t\t\t\t\t 2021-01-22 11:03:51 PM \n",
      "[1] \"Annotation Pie Chart\"\n",
      "[1] \"Pathway analysis\"\n"
     ]
    },
    {
     "name": "stderr",
     "output_type": "stream",
     "text": [
      "Saving 13.3 x 13.3 in image\n",
      "\n"
     ]
    },
    {
     "name": "stdout",
     "output_type": "stream",
     "text": [
      "[1] \"-----------\"\n",
      "[1] \"2017_NAT_IMMUNOL_Yu___H3K4me3_P14-CD8-Memory\"\n",
      "[1] \"Peak Annotation\"\n",
      ">> loading peak file...\t\t\t\t 2021-01-22 11:03:57 PM \n",
      ">> preparing features information...\t\t 2021-01-22 11:03:58 PM \n",
      ">> identifying nearest features...\t\t 2021-01-22 11:03:58 PM \n",
      ">> calculating distance from peak to TSS...\t 2021-01-22 11:03:59 PM \n",
      ">> assigning genomic annotation...\t\t 2021-01-22 11:03:59 PM \n",
      ">> adding gene annotation...\t\t\t 2021-01-22 11:04:01 PM \n"
     ]
    },
    {
     "name": "stderr",
     "output_type": "stream",
     "text": [
      "'select()' returned 1:many mapping between keys and columns\n",
      "\n"
     ]
    },
    {
     "name": "stdout",
     "output_type": "stream",
     "text": [
      ">> assigning chromosome lengths\t\t\t 2021-01-22 11:04:01 PM \n",
      ">> done...\t\t\t\t\t 2021-01-22 11:04:01 PM \n",
      "[1] \"Annotation Pie Chart\"\n",
      "[1] \"Pathway analysis\"\n"
     ]
    },
    {
     "name": "stderr",
     "output_type": "stream",
     "text": [
      "Saving 13.3 x 13.3 in image\n",
      "\n"
     ]
    },
    {
     "name": "stdout",
     "output_type": "stream",
     "text": [
      "[1] \"-----------\"\n",
      "[1] \"2017_NAT_IMMUNOL_Yu___H3K4me3_P14-CD8-MP\"\n",
      "[1] \"Peak Annotation\"\n",
      ">> loading peak file...\t\t\t\t 2021-01-22 11:04:07 PM \n",
      ">> preparing features information...\t\t 2021-01-22 11:04:07 PM \n",
      ">> identifying nearest features...\t\t 2021-01-22 11:04:07 PM \n",
      ">> calculating distance from peak to TSS...\t 2021-01-22 11:04:07 PM \n",
      ">> assigning genomic annotation...\t\t 2021-01-22 11:04:07 PM \n",
      ">> adding gene annotation...\t\t\t 2021-01-22 11:04:10 PM \n"
     ]
    },
    {
     "name": "stderr",
     "output_type": "stream",
     "text": [
      "'select()' returned 1:many mapping between keys and columns\n",
      "\n"
     ]
    },
    {
     "name": "stdout",
     "output_type": "stream",
     "text": [
      ">> assigning chromosome lengths\t\t\t 2021-01-22 11:04:10 PM \n",
      ">> done...\t\t\t\t\t 2021-01-22 11:04:10 PM \n",
      "[1] \"Annotation Pie Chart\"\n",
      "[1] \"Pathway analysis\"\n"
     ]
    },
    {
     "name": "stderr",
     "output_type": "stream",
     "text": [
      "Saving 13.3 x 13.3 in image\n",
      "\n"
     ]
    },
    {
     "name": "stdout",
     "output_type": "stream",
     "text": [
      "[1] \"-----------\"\n",
      "[1] \"2017_NAT_IMMUNOL_Yu___H3K4me3_P14-CD8-TE\"\n",
      "[1] \"Peak Annotation\"\n",
      ">> loading peak file...\t\t\t\t 2021-01-22 11:04:16 PM \n",
      ">> preparing features information...\t\t 2021-01-22 11:04:16 PM \n",
      ">> identifying nearest features...\t\t 2021-01-22 11:04:16 PM \n",
      ">> calculating distance from peak to TSS...\t 2021-01-22 11:04:16 PM \n",
      ">> assigning genomic annotation...\t\t 2021-01-22 11:04:16 PM \n",
      ">> adding gene annotation...\t\t\t 2021-01-22 11:04:18 PM \n"
     ]
    },
    {
     "name": "stderr",
     "output_type": "stream",
     "text": [
      "'select()' returned 1:many mapping between keys and columns\n",
      "\n"
     ]
    },
    {
     "name": "stdout",
     "output_type": "stream",
     "text": [
      ">> assigning chromosome lengths\t\t\t 2021-01-22 11:04:18 PM \n",
      ">> done...\t\t\t\t\t 2021-01-22 11:04:18 PM \n",
      "[1] \"Annotation Pie Chart\"\n",
      "[1] \"Pathway analysis\"\n"
     ]
    },
    {
     "name": "stderr",
     "output_type": "stream",
     "text": [
      "Saving 13.3 x 13.3 in image\n",
      "\n"
     ]
    },
    {
     "name": "stdout",
     "output_type": "stream",
     "text": [
      "[1] \"-----------\"\n",
      "[1] \"2017_NAT_IMMUNOL_Yu___H3K4me3_P14-CD8-TN\"\n",
      "[1] \"Peak Annotation\"\n",
      ">> loading peak file...\t\t\t\t 2021-01-22 11:04:24 PM \n",
      ">> preparing features information...\t\t 2021-01-22 11:04:24 PM \n",
      ">> identifying nearest features...\t\t 2021-01-22 11:04:24 PM \n",
      ">> calculating distance from peak to TSS...\t 2021-01-22 11:04:24 PM \n",
      ">> assigning genomic annotation...\t\t 2021-01-22 11:04:24 PM \n",
      ">> adding gene annotation...\t\t\t 2021-01-22 11:04:26 PM \n"
     ]
    },
    {
     "name": "stderr",
     "output_type": "stream",
     "text": [
      "'select()' returned 1:many mapping between keys and columns\n",
      "\n"
     ]
    },
    {
     "name": "stdout",
     "output_type": "stream",
     "text": [
      ">> assigning chromosome lengths\t\t\t 2021-01-22 11:04:26 PM \n",
      ">> done...\t\t\t\t\t 2021-01-22 11:04:26 PM \n",
      "[1] \"Annotation Pie Chart\"\n",
      "[1] \"Pathway analysis\"\n"
     ]
    },
    {
     "name": "stderr",
     "output_type": "stream",
     "text": [
      "Saving 13.3 x 13.3 in image\n",
      "\n"
     ]
    },
    {
     "name": "stdout",
     "output_type": "stream",
     "text": [
      "[1] \"-----------\"\n",
      "[1] \"2017_PNAS_Li___H3K27Ac_IL2-CD4\"\n",
      "[1] \"Peak Annotation\"\n",
      ">> loading peak file...\t\t\t\t 2021-01-22 11:04:32 PM \n",
      ">> preparing features information...\t\t 2021-01-22 11:04:33 PM \n",
      ">> identifying nearest features...\t\t 2021-01-22 11:04:33 PM \n",
      ">> calculating distance from peak to TSS...\t 2021-01-22 11:04:34 PM \n",
      ">> assigning genomic annotation...\t\t 2021-01-22 11:04:34 PM \n",
      ">> adding gene annotation...\t\t\t 2021-01-22 11:04:37 PM \n"
     ]
    },
    {
     "name": "stderr",
     "output_type": "stream",
     "text": [
      "'select()' returned 1:many mapping between keys and columns\n",
      "\n"
     ]
    },
    {
     "name": "stdout",
     "output_type": "stream",
     "text": [
      ">> assigning chromosome lengths\t\t\t 2021-01-22 11:04:37 PM \n",
      ">> done...\t\t\t\t\t 2021-01-22 11:04:37 PM \n",
      "[1] \"Annotation Pie Chart\"\n",
      "[1] \"Pathway analysis\"\n"
     ]
    },
    {
     "name": "stderr",
     "output_type": "stream",
     "text": [
      "Saving 13.3 x 13.3 in image\n",
      "\n"
     ]
    },
    {
     "name": "stdout",
     "output_type": "stream",
     "text": [
      "[1] \"-----------\"\n",
      "[1] \"2017_PNAS_Li___H3K27Ac_IL2-IN1-deletion-CD4\"\n",
      "[1] \"Peak Annotation\"\n",
      ">> loading peak file...\t\t\t\t 2021-01-22 11:04:43 PM \n",
      ">> preparing features information...\t\t 2021-01-22 11:04:44 PM \n",
      ">> identifying nearest features...\t\t 2021-01-22 11:04:44 PM \n",
      ">> calculating distance from peak to TSS...\t 2021-01-22 11:04:45 PM \n",
      ">> assigning genomic annotation...\t\t 2021-01-22 11:04:45 PM \n",
      ">> adding gene annotation...\t\t\t 2021-01-22 11:04:48 PM \n"
     ]
    },
    {
     "name": "stderr",
     "output_type": "stream",
     "text": [
      "'select()' returned 1:many mapping between keys and columns\n",
      "\n"
     ]
    },
    {
     "name": "stdout",
     "output_type": "stream",
     "text": [
      ">> assigning chromosome lengths\t\t\t 2021-01-22 11:04:48 PM \n",
      ">> done...\t\t\t\t\t 2021-01-22 11:04:48 PM \n",
      "[1] \"Annotation Pie Chart\"\n",
      "[1] \"Pathway analysis\"\n"
     ]
    },
    {
     "name": "stderr",
     "output_type": "stream",
     "text": [
      "Saving 13.3 x 13.3 in image\n",
      "\n"
     ]
    },
    {
     "name": "stdout",
     "output_type": "stream",
     "text": [
      "[1] \"-----------\"\n",
      "[1] \"2017_PNAS_Li___H3K27Ac_IL2-IN2-deletion-CD4\"\n",
      "[1] \"Peak Annotation\"\n",
      ">> loading peak file...\t\t\t\t 2021-01-22 11:04:55 PM \n",
      ">> preparing features information...\t\t 2021-01-22 11:04:55 PM \n",
      ">> identifying nearest features...\t\t 2021-01-22 11:04:55 PM \n",
      ">> calculating distance from peak to TSS...\t 2021-01-22 11:04:57 PM \n",
      ">> assigning genomic annotation...\t\t 2021-01-22 11:04:57 PM \n",
      ">> adding gene annotation...\t\t\t 2021-01-22 11:04:59 PM \n"
     ]
    },
    {
     "name": "stderr",
     "output_type": "stream",
     "text": [
      "'select()' returned 1:many mapping between keys and columns\n",
      "\n"
     ]
    },
    {
     "name": "stdout",
     "output_type": "stream",
     "text": [
      ">> assigning chromosome lengths\t\t\t 2021-01-22 11:05:00 PM \n",
      ">> done...\t\t\t\t\t 2021-01-22 11:05:00 PM \n",
      "[1] \"Annotation Pie Chart\"\n",
      "[1] \"Pathway analysis\"\n"
     ]
    },
    {
     "name": "stderr",
     "output_type": "stream",
     "text": [
      "Saving 13.3 x 13.3 in image\n",
      "\n"
     ]
    },
    {
     "name": "stdout",
     "output_type": "stream",
     "text": [
      "[1] \"-----------\"\n",
      "[1] \"2017_PNAS_Li___H3K27Ac_IL2-UP-deletion-CD4\"\n",
      "[1] \"Peak Annotation\"\n",
      ">> loading peak file...\t\t\t\t 2021-01-22 11:05:07 PM \n",
      ">> preparing features information...\t\t 2021-01-22 11:05:07 PM \n",
      ">> identifying nearest features...\t\t 2021-01-22 11:05:07 PM \n",
      ">> calculating distance from peak to TSS...\t 2021-01-22 11:05:08 PM \n",
      ">> assigning genomic annotation...\t\t 2021-01-22 11:05:08 PM \n",
      ">> adding gene annotation...\t\t\t 2021-01-22 11:05:11 PM \n"
     ]
    },
    {
     "name": "stderr",
     "output_type": "stream",
     "text": [
      "'select()' returned 1:many mapping between keys and columns\n",
      "\n"
     ]
    },
    {
     "name": "stdout",
     "output_type": "stream",
     "text": [
      ">> assigning chromosome lengths\t\t\t 2021-01-22 11:05:11 PM \n",
      ">> done...\t\t\t\t\t 2021-01-22 11:05:11 PM \n",
      "[1] \"Annotation Pie Chart\"\n",
      "[1] \"Pathway analysis\"\n"
     ]
    },
    {
     "name": "stderr",
     "output_type": "stream",
     "text": [
      "Saving 13.3 x 13.3 in image\n",
      "\n"
     ]
    },
    {
     "name": "stdout",
     "output_type": "stream",
     "text": [
      "[1] \"-----------\"\n",
      "[1] \"2017_PNAS_Li___H3K27Ac_IL2-WT-CD4\"\n",
      "[1] \"Peak Annotation\"\n",
      ">> loading peak file...\t\t\t\t 2021-01-22 11:05:18 PM \n",
      ">> preparing features information...\t\t 2021-01-22 11:05:19 PM \n",
      ">> identifying nearest features...\t\t 2021-01-22 11:05:19 PM \n",
      ">> calculating distance from peak to TSS...\t 2021-01-22 11:05:20 PM \n",
      ">> assigning genomic annotation...\t\t 2021-01-22 11:05:20 PM \n",
      ">> adding gene annotation...\t\t\t 2021-01-22 11:05:23 PM \n"
     ]
    },
    {
     "name": "stderr",
     "output_type": "stream",
     "text": [
      "'select()' returned 1:many mapping between keys and columns\n",
      "\n"
     ]
    },
    {
     "name": "stdout",
     "output_type": "stream",
     "text": [
      ">> assigning chromosome lengths\t\t\t 2021-01-22 11:05:23 PM \n",
      ">> done...\t\t\t\t\t 2021-01-22 11:05:23 PM \n",
      "[1] \"Annotation Pie Chart\"\n",
      "[1] \"Pathway analysis\"\n"
     ]
    },
    {
     "name": "stderr",
     "output_type": "stream",
     "text": [
      "Saving 13.3 x 13.3 in image\n",
      "\n"
     ]
    },
    {
     "name": "stdout",
     "output_type": "stream",
     "text": [
      "[1] \"-----------\"\n",
      "[1] \"2017_PNAS_Li___H3K27Ac-noIL2-CD4\"\n",
      "[1] \"Peak Annotation\"\n",
      ">> loading peak file...\t\t\t\t 2021-01-22 11:05:30 PM \n",
      ">> preparing features information...\t\t 2021-01-22 11:05:31 PM \n",
      ">> identifying nearest features...\t\t 2021-01-22 11:05:31 PM \n",
      ">> calculating distance from peak to TSS...\t 2021-01-22 11:05:33 PM \n",
      ">> assigning genomic annotation...\t\t 2021-01-22 11:05:33 PM \n",
      ">> adding gene annotation...\t\t\t 2021-01-22 11:05:36 PM \n"
     ]
    },
    {
     "name": "stderr",
     "output_type": "stream",
     "text": [
      "'select()' returned 1:many mapping between keys and columns\n",
      "\n"
     ]
    },
    {
     "name": "stdout",
     "output_type": "stream",
     "text": [
      ">> assigning chromosome lengths\t\t\t 2021-01-22 11:05:36 PM \n",
      ">> done...\t\t\t\t\t 2021-01-22 11:05:36 PM \n",
      "[1] \"Annotation Pie Chart\"\n",
      "[1] \"Pathway analysis\"\n"
     ]
    },
    {
     "name": "stderr",
     "output_type": "stream",
     "text": [
      "Saving 13.3 x 13.3 in image\n",
      "\n"
     ]
    },
    {
     "name": "stdout",
     "output_type": "stream",
     "text": [
      "[1] \"-----------\"\n",
      "[1] \"2017_PNAS_Li___H3K4me3_IL2-CD4\"\n",
      "[1] \"Peak Annotation\"\n",
      ">> loading peak file...\t\t\t\t 2021-01-22 11:05:43 PM \n",
      ">> preparing features information...\t\t 2021-01-22 11:05:44 PM \n",
      ">> identifying nearest features...\t\t 2021-01-22 11:05:44 PM \n",
      ">> calculating distance from peak to TSS...\t 2021-01-22 11:05:45 PM \n",
      ">> assigning genomic annotation...\t\t 2021-01-22 11:05:45 PM \n",
      ">> adding gene annotation...\t\t\t 2021-01-22 11:05:48 PM \n"
     ]
    },
    {
     "name": "stderr",
     "output_type": "stream",
     "text": [
      "'select()' returned 1:many mapping between keys and columns\n",
      "\n"
     ]
    },
    {
     "name": "stdout",
     "output_type": "stream",
     "text": [
      ">> assigning chromosome lengths\t\t\t 2021-01-22 11:05:48 PM \n",
      ">> done...\t\t\t\t\t 2021-01-22 11:05:48 PM \n",
      "[1] \"Annotation Pie Chart\"\n",
      "[1] \"Pathway analysis\"\n"
     ]
    },
    {
     "name": "stderr",
     "output_type": "stream",
     "text": [
      "Saving 13.3 x 13.3 in image\n",
      "\n"
     ]
    },
    {
     "name": "stdout",
     "output_type": "stream",
     "text": [
      "[1] \"-----------\"\n",
      "[1] \"2017_PNAS_Li___H3K4me3-noIL2-CD4\"\n",
      "[1] \"Peak Annotation\"\n",
      ">> loading peak file...\t\t\t\t 2021-01-22 11:05:56 PM \n",
      ">> preparing features information...\t\t 2021-01-22 11:05:57 PM \n",
      ">> identifying nearest features...\t\t 2021-01-22 11:05:57 PM \n",
      ">> calculating distance from peak to TSS...\t 2021-01-22 11:05:58 PM \n",
      ">> assigning genomic annotation...\t\t 2021-01-22 11:05:58 PM \n",
      ">> adding gene annotation...\t\t\t 2021-01-22 11:06:00 PM \n"
     ]
    },
    {
     "name": "stderr",
     "output_type": "stream",
     "text": [
      "'select()' returned 1:many mapping between keys and columns\n",
      "\n"
     ]
    },
    {
     "name": "stdout",
     "output_type": "stream",
     "text": [
      ">> assigning chromosome lengths\t\t\t 2021-01-22 11:06:00 PM \n",
      ">> done...\t\t\t\t\t 2021-01-22 11:06:00 PM \n",
      "[1] \"Annotation Pie Chart\"\n",
      "[1] \"Pathway analysis\"\n"
     ]
    },
    {
     "name": "stderr",
     "output_type": "stream",
     "text": [
      "Saving 13.3 x 13.3 in image\n",
      "\n"
     ]
    },
    {
     "name": "stdout",
     "output_type": "stream",
     "text": [
      "[1] \"-----------\"\n",
      "[1] \"2017_PNAS_Li___STAT3_IL21-CD4\"\n",
      "[1] \"Peak Annotation\"\n",
      ">> loading peak file...\t\t\t\t 2021-01-22 11:06:06 PM \n",
      ">> preparing features information...\t\t 2021-01-22 11:06:06 PM \n",
      ">> identifying nearest features...\t\t 2021-01-22 11:06:06 PM \n",
      ">> calculating distance from peak to TSS...\t 2021-01-22 11:06:07 PM \n",
      ">> assigning genomic annotation...\t\t 2021-01-22 11:06:07 PM \n",
      ">> adding gene annotation...\t\t\t 2021-01-22 11:06:09 PM \n"
     ]
    },
    {
     "name": "stderr",
     "output_type": "stream",
     "text": [
      "'select()' returned 1:many mapping between keys and columns\n",
      "\n"
     ]
    },
    {
     "name": "stdout",
     "output_type": "stream",
     "text": [
      ">> assigning chromosome lengths\t\t\t 2021-01-22 11:06:09 PM \n",
      ">> done...\t\t\t\t\t 2021-01-22 11:06:09 PM \n",
      "[1] \"Annotation Pie Chart\"\n",
      "[1] \"Pathway analysis\"\n"
     ]
    },
    {
     "name": "stderr",
     "output_type": "stream",
     "text": [
      "Saving 13.3 x 13.3 in image\n",
      "\n"
     ]
    },
    {
     "name": "stdout",
     "output_type": "stream",
     "text": [
      "[1] \"-----------\"\n",
      "[1] \"2017_PNAS_Li___STAT3_noIL21-CD4\"\n",
      "[1] \"Peak Annotation\"\n",
      ">> loading peak file...\t\t\t\t 2021-01-22 11:06:14 PM \n",
      ">> preparing features information...\t\t 2021-01-22 11:06:14 PM \n",
      ">> identifying nearest features...\t\t 2021-01-22 11:06:14 PM \n",
      ">> calculating distance from peak to TSS...\t 2021-01-22 11:06:14 PM \n",
      ">> assigning genomic annotation...\t\t 2021-01-22 11:06:14 PM \n",
      ">> adding gene annotation...\t\t\t 2021-01-22 11:06:17 PM \n"
     ]
    },
    {
     "name": "stderr",
     "output_type": "stream",
     "text": [
      "'select()' returned 1:many mapping between keys and columns\n",
      "\n"
     ]
    },
    {
     "name": "stdout",
     "output_type": "stream",
     "text": [
      ">> assigning chromosome lengths\t\t\t 2021-01-22 11:06:17 PM \n",
      ">> done...\t\t\t\t\t 2021-01-22 11:06:17 PM \n",
      "[1] \"Annotation Pie Chart\"\n",
      "[1] \"Pathway analysis\"\n"
     ]
    },
    {
     "name": "stderr",
     "output_type": "stream",
     "text": [
      "Saving 13.3 x 13.3 in image\n",
      "\n"
     ]
    },
    {
     "name": "stdout",
     "output_type": "stream",
     "text": [
      "[1] \"-----------\"\n",
      "[1] \"2017_PNAS_Li___STAT5B_IL2-CD4\"\n",
      "[1] \"Peak Annotation\"\n",
      ">> loading peak file...\t\t\t\t 2021-01-22 11:06:21 PM \n",
      ">> preparing features information...\t\t 2021-01-22 11:06:21 PM \n",
      ">> identifying nearest features...\t\t 2021-01-22 11:06:21 PM \n",
      ">> calculating distance from peak to TSS...\t 2021-01-22 11:06:22 PM \n",
      ">> assigning genomic annotation...\t\t 2021-01-22 11:06:22 PM \n",
      ">> adding gene annotation...\t\t\t 2021-01-22 11:06:24 PM \n"
     ]
    },
    {
     "name": "stderr",
     "output_type": "stream",
     "text": [
      "'select()' returned 1:many mapping between keys and columns\n",
      "\n"
     ]
    },
    {
     "name": "stdout",
     "output_type": "stream",
     "text": [
      ">> assigning chromosome lengths\t\t\t 2021-01-22 11:06:24 PM \n",
      ">> done...\t\t\t\t\t 2021-01-22 11:06:24 PM \n",
      "[1] \"Annotation Pie Chart\"\n",
      "[1] \"Pathway analysis\"\n"
     ]
    },
    {
     "name": "stderr",
     "output_type": "stream",
     "text": [
      "Saving 13.3 x 13.3 in image\n",
      "\n"
     ]
    },
    {
     "name": "stdout",
     "output_type": "stream",
     "text": [
      "[1] \"-----------\"\n",
      "[1] \"2017_PNAS_Li___STAT5B_IL2-CD8\"\n",
      "[1] \"Peak Annotation\"\n",
      ">> loading peak file...\t\t\t\t 2021-01-22 11:06:29 PM \n",
      ">> preparing features information...\t\t 2021-01-22 11:06:30 PM \n",
      ">> identifying nearest features...\t\t 2021-01-22 11:06:30 PM \n",
      ">> calculating distance from peak to TSS...\t 2021-01-22 11:06:30 PM \n",
      ">> assigning genomic annotation...\t\t 2021-01-22 11:06:30 PM \n",
      ">> adding gene annotation...\t\t\t 2021-01-22 11:06:32 PM \n"
     ]
    },
    {
     "name": "stderr",
     "output_type": "stream",
     "text": [
      "'select()' returned 1:many mapping between keys and columns\n",
      "\n"
     ]
    },
    {
     "name": "stdout",
     "output_type": "stream",
     "text": [
      ">> assigning chromosome lengths\t\t\t 2021-01-22 11:06:32 PM \n",
      ">> done...\t\t\t\t\t 2021-01-22 11:06:32 PM \n",
      "[1] \"Annotation Pie Chart\"\n",
      "[1] \"Pathway analysis\"\n"
     ]
    },
    {
     "name": "stderr",
     "output_type": "stream",
     "text": [
      "Saving 13.3 x 13.3 in image\n",
      "\n"
     ]
    },
    {
     "name": "stdout",
     "output_type": "stream",
     "text": [
      "[1] \"-----------\"\n",
      "[1] \"2017_PNAS_Li___STAT5B_IL2-IN1-deletion-CD4\"\n",
      "[1] \"Peak Annotation\"\n",
      ">> loading peak file...\t\t\t\t 2021-01-22 11:06:37 PM \n",
      ">> preparing features information...\t\t 2021-01-22 11:06:37 PM \n",
      ">> identifying nearest features...\t\t 2021-01-22 11:06:37 PM \n",
      ">> calculating distance from peak to TSS...\t 2021-01-22 11:06:38 PM \n",
      ">> assigning genomic annotation...\t\t 2021-01-22 11:06:38 PM \n",
      ">> adding gene annotation...\t\t\t 2021-01-22 11:06:40 PM \n"
     ]
    },
    {
     "name": "stderr",
     "output_type": "stream",
     "text": [
      "'select()' returned 1:many mapping between keys and columns\n",
      "\n"
     ]
    },
    {
     "name": "stdout",
     "output_type": "stream",
     "text": [
      ">> assigning chromosome lengths\t\t\t 2021-01-22 11:06:40 PM \n",
      ">> done...\t\t\t\t\t 2021-01-22 11:06:40 PM \n",
      "[1] \"Annotation Pie Chart\"\n",
      "[1] \"Pathway analysis\"\n"
     ]
    },
    {
     "name": "stderr",
     "output_type": "stream",
     "text": [
      "Saving 13.3 x 13.3 in image\n",
      "\n"
     ]
    },
    {
     "name": "stdout",
     "output_type": "stream",
     "text": [
      "[1] \"-----------\"\n",
      "[1] \"2017_PNAS_Li___STAT5B_IL2-IN2-deletion-CD4\"\n",
      "[1] \"Peak Annotation\"\n",
      ">> loading peak file...\t\t\t\t 2021-01-22 11:06:45 PM \n",
      ">> preparing features information...\t\t 2021-01-22 11:06:46 PM \n",
      ">> identifying nearest features...\t\t 2021-01-22 11:06:46 PM \n",
      ">> calculating distance from peak to TSS...\t 2021-01-22 11:06:46 PM \n",
      ">> assigning genomic annotation...\t\t 2021-01-22 11:06:46 PM \n",
      ">> adding gene annotation...\t\t\t 2021-01-22 11:06:48 PM \n"
     ]
    },
    {
     "name": "stderr",
     "output_type": "stream",
     "text": [
      "'select()' returned 1:many mapping between keys and columns\n",
      "\n"
     ]
    },
    {
     "name": "stdout",
     "output_type": "stream",
     "text": [
      ">> assigning chromosome lengths\t\t\t 2021-01-22 11:06:48 PM \n",
      ">> done...\t\t\t\t\t 2021-01-22 11:06:48 PM \n",
      "[1] \"Annotation Pie Chart\"\n",
      "[1] \"Pathway analysis\"\n"
     ]
    },
    {
     "name": "stderr",
     "output_type": "stream",
     "text": [
      "Saving 13.3 x 13.3 in image\n",
      "\n"
     ]
    },
    {
     "name": "stdout",
     "output_type": "stream",
     "text": [
      "[1] \"-----------\"\n",
      "[1] \"2017_PNAS_Li___STAT5B_IL2-UP-deletion-CD4\"\n",
      "[1] \"Peak Annotation\"\n",
      ">> loading peak file...\t\t\t\t 2021-01-22 11:06:54 PM \n",
      ">> preparing features information...\t\t 2021-01-22 11:06:54 PM \n",
      ">> identifying nearest features...\t\t 2021-01-22 11:06:54 PM \n",
      ">> calculating distance from peak to TSS...\t 2021-01-22 11:06:54 PM \n",
      ">> assigning genomic annotation...\t\t 2021-01-22 11:06:54 PM \n",
      ">> adding gene annotation...\t\t\t 2021-01-22 11:06:57 PM \n"
     ]
    },
    {
     "name": "stderr",
     "output_type": "stream",
     "text": [
      "'select()' returned 1:many mapping between keys and columns\n",
      "\n"
     ]
    },
    {
     "name": "stdout",
     "output_type": "stream",
     "text": [
      ">> assigning chromosome lengths\t\t\t 2021-01-22 11:06:57 PM \n",
      ">> done...\t\t\t\t\t 2021-01-22 11:06:57 PM \n",
      "[1] \"Annotation Pie Chart\"\n",
      "[1] \"Pathway analysis\"\n"
     ]
    },
    {
     "name": "stderr",
     "output_type": "stream",
     "text": [
      "Saving 13.3 x 13.3 in image\n",
      "\n"
     ]
    },
    {
     "name": "stdout",
     "output_type": "stream",
     "text": [
      "[1] \"-----------\"\n",
      "[1] \"2017_PNAS_Li___STAT5B_IL2-WT-CD4\"\n",
      "[1] \"Peak Annotation\"\n",
      ">> loading peak file...\t\t\t\t 2021-01-22 11:07:03 PM \n",
      ">> preparing features information...\t\t 2021-01-22 11:07:03 PM \n",
      ">> identifying nearest features...\t\t 2021-01-22 11:07:03 PM \n",
      ">> calculating distance from peak to TSS...\t 2021-01-22 11:07:03 PM \n",
      ">> assigning genomic annotation...\t\t 2021-01-22 11:07:03 PM \n",
      ">> adding gene annotation...\t\t\t 2021-01-22 11:07:05 PM \n"
     ]
    },
    {
     "name": "stderr",
     "output_type": "stream",
     "text": [
      "'select()' returned 1:many mapping between keys and columns\n",
      "\n"
     ]
    },
    {
     "name": "stdout",
     "output_type": "stream",
     "text": [
      ">> assigning chromosome lengths\t\t\t 2021-01-22 11:07:05 PM \n",
      ">> done...\t\t\t\t\t 2021-01-22 11:07:05 PM \n",
      "[1] \"Annotation Pie Chart\"\n",
      "[1] \"Pathway analysis\"\n"
     ]
    },
    {
     "name": "stderr",
     "output_type": "stream",
     "text": [
      "Saving 13.3 x 13.3 in image\n",
      "\n"
     ]
    },
    {
     "name": "stdout",
     "output_type": "stream",
     "text": [
      "[1] \"-----------\"\n",
      "[1] \"2017_PNAS_Li___STAT5B_noIL2-CD4\"\n",
      "[1] \"-----------\"\n",
      "[1] \"2017_PNAS_Li___STAT5B_noIL2-CD8\"\n",
      "[1] \"Peak Annotation\"\n",
      ">> loading peak file...\t\t\t\t 2021-01-22 11:07:11 PM \n",
      ">> preparing features information...\t\t 2021-01-22 11:07:11 PM \n",
      ">> identifying nearest features...\t\t 2021-01-22 11:07:11 PM \n",
      ">> calculating distance from peak to TSS...\t 2021-01-22 11:07:11 PM \n",
      ">> assigning genomic annotation...\t\t 2021-01-22 11:07:11 PM \n",
      ">> adding gene annotation...\t\t\t 2021-01-22 11:07:13 PM \n"
     ]
    },
    {
     "name": "stderr",
     "output_type": "stream",
     "text": [
      "'select()' returned 1:many mapping between keys and columns\n",
      "\n"
     ]
    },
    {
     "name": "stdout",
     "output_type": "stream",
     "text": [
      ">> assigning chromosome lengths\t\t\t 2021-01-22 11:07:13 PM \n",
      ">> done...\t\t\t\t\t 2021-01-22 11:07:13 PM \n",
      "[1] \"Annotation Pie Chart\"\n",
      "[1] \"Pathway analysis\"\n"
     ]
    },
    {
     "name": "stderr",
     "output_type": "stream",
     "text": [
      "Saving 13.3 x 13.3 in image\n",
      "\n"
     ]
    },
    {
     "name": "stdout",
     "output_type": "stream",
     "text": [
      "[1] \"-----------\"\n",
      "[1] \"2018_FRONTIERS_IMMUNOL_Li___Eomes_invitro-act-OTI-EomesOE\"\n",
      "[1] \"Peak Annotation\"\n",
      ">> loading peak file...\t\t\t\t 2021-01-22 11:07:18 PM \n",
      ">> preparing features information...\t\t 2021-01-22 11:07:18 PM \n",
      ">> identifying nearest features...\t\t 2021-01-22 11:07:18 PM \n",
      ">> calculating distance from peak to TSS...\t 2021-01-22 11:07:18 PM \n",
      ">> assigning genomic annotation...\t\t 2021-01-22 11:07:18 PM \n",
      ">> adding gene annotation...\t\t\t 2021-01-22 11:07:21 PM \n"
     ]
    },
    {
     "name": "stderr",
     "output_type": "stream",
     "text": [
      "'select()' returned 1:many mapping between keys and columns\n",
      "\n"
     ]
    },
    {
     "name": "stdout",
     "output_type": "stream",
     "text": [
      ">> assigning chromosome lengths\t\t\t 2021-01-22 11:07:21 PM \n",
      ">> done...\t\t\t\t\t 2021-01-22 11:07:21 PM \n",
      "[1] \"Annotation Pie Chart\"\n",
      "[1] \"Pathway analysis\"\n"
     ]
    },
    {
     "name": "stderr",
     "output_type": "stream",
     "text": [
      "Saving 13.3 x 13.3 in image\n",
      "\n"
     ]
    },
    {
     "name": "stdout",
     "output_type": "stream",
     "text": [
      "[1] \"-----------\"\n",
      "[1] \"2018_FRONTIERS_IMMUNOL_Li___Eomes_invitro-act-OTI-WT\"\n",
      "[1] \"-----------\"\n",
      "[1] \"2018_IMMUNITY_Page___Tox_LCMVova_CNS-OTI-CD8-ToxKO\"\n",
      "[1] \"Peak Annotation\"\n",
      ">> loading peak file...\t\t\t\t 2021-01-22 11:07:26 PM \n",
      ">> preparing features information...\t\t 2021-01-22 11:07:26 PM \n",
      ">> identifying nearest features...\t\t 2021-01-22 11:07:26 PM \n",
      ">> calculating distance from peak to TSS...\t 2021-01-22 11:07:27 PM \n",
      ">> assigning genomic annotation...\t\t 2021-01-22 11:07:27 PM \n",
      ">> adding gene annotation...\t\t\t 2021-01-22 11:07:29 PM \n"
     ]
    },
    {
     "name": "stderr",
     "output_type": "stream",
     "text": [
      "'select()' returned 1:many mapping between keys and columns\n",
      "\n"
     ]
    },
    {
     "name": "stdout",
     "output_type": "stream",
     "text": [
      ">> assigning chromosome lengths\t\t\t 2021-01-22 11:07:29 PM \n",
      ">> done...\t\t\t\t\t 2021-01-22 11:07:29 PM \n",
      "[1] \"Annotation Pie Chart\"\n",
      "[1] \"Pathway analysis\"\n"
     ]
    },
    {
     "name": "stderr",
     "output_type": "stream",
     "text": [
      "Saving 13.3 x 13.3 in image\n",
      "\n"
     ]
    },
    {
     "name": "stdout",
     "output_type": "stream",
     "text": [
      "[1] \"-----------\"\n",
      "[1] \"2018_IMMUNITY_Page___Tox_LCMVova_CNS-OTI-CD8-WT\"\n",
      "[1] \"Peak Annotation\"\n",
      ">> loading peak file...\t\t\t\t 2021-01-22 11:07:34 PM \n",
      ">> preparing features information...\t\t 2021-01-22 11:07:34 PM \n",
      ">> identifying nearest features...\t\t 2021-01-22 11:07:34 PM \n",
      ">> calculating distance from peak to TSS...\t 2021-01-22 11:07:35 PM \n",
      ">> assigning genomic annotation...\t\t 2021-01-22 11:07:35 PM \n",
      ">> adding gene annotation...\t\t\t 2021-01-22 11:07:37 PM \n"
     ]
    },
    {
     "name": "stderr",
     "output_type": "stream",
     "text": [
      "'select()' returned 1:many mapping between keys and columns\n",
      "\n"
     ]
    },
    {
     "name": "stdout",
     "output_type": "stream",
     "text": [
      ">> assigning chromosome lengths\t\t\t 2021-01-22 11:07:37 PM \n",
      ">> done...\t\t\t\t\t 2021-01-22 11:07:37 PM \n",
      "[1] \"Annotation Pie Chart\"\n",
      "[1] \"Pathway analysis\"\n"
     ]
    },
    {
     "name": "stderr",
     "output_type": "stream",
     "text": [
      "Saving 13.3 x 13.3 in image\n",
      "\n"
     ]
    },
    {
     "name": "stdout",
     "output_type": "stream",
     "text": [
      "[1] \"-----------\"\n",
      "[1] \"2018_SCIENCE_Pace_native___H3K9me3_invitro-d3-CD8-Suv39h1KO\"\n",
      "[1] \"-----------\"\n",
      "[1] \"2018_SCIENCE_Pace_native___H3K9me3_invitro-d3-CD8-WT\"\n",
      "[1] \"-----------\"\n",
      "[1] \"2018_SCIENCE_Pace_native___H3K9me3_native_invitro-d0-CD8-WT\"\n",
      "[1] \"-----------\"\n",
      "[1] \"2018_SCIENCE_Pace_native___H3K9me3_native_invitro-d3-CD8-WT\"\n",
      "[1] \"Peak Annotation\"\n",
      ">> loading peak file...\t\t\t\t 2021-01-22 11:07:43 PM \n",
      ">> preparing features information...\t\t 2021-01-22 11:07:43 PM \n",
      ">> identifying nearest features...\t\t 2021-01-22 11:07:43 PM \n",
      ">> calculating distance from peak to TSS...\t 2021-01-22 11:07:43 PM \n",
      ">> assigning genomic annotation...\t\t 2021-01-22 11:07:43 PM \n",
      ">> adding gene annotation...\t\t\t 2021-01-22 11:07:46 PM \n"
     ]
    },
    {
     "name": "stderr",
     "output_type": "stream",
     "text": [
      "'select()' returned 1:many mapping between keys and columns\n",
      "\n"
     ]
    },
    {
     "name": "stdout",
     "output_type": "stream",
     "text": [
      ">> assigning chromosome lengths\t\t\t 2021-01-22 11:07:46 PM \n",
      ">> done...\t\t\t\t\t 2021-01-22 11:07:46 PM \n",
      "[1] \"Annotation Pie Chart\"\n",
      "[1] \"Pathway analysis\"\n"
     ]
    },
    {
     "name": "stderr",
     "output_type": "stream",
     "text": [
      "Saving 13.3 x 13.3 in image\n",
      "\n"
     ]
    },
    {
     "name": "stdout",
     "output_type": "stream",
     "text": [
      "[1] \"-----------\"\n",
      "[1] \"2019_IMMUNITY_Veeken___Cbfb_LCMV-d07-CD8\"\n"
     ]
    },
    {
     "ename": "ERROR",
     "evalue": "Error in read.table(file = file, header = header, sep = sep, quote = quote, : no lines available in input\n",
     "output_type": "error",
     "traceback": [
      "Error in read.table(file = file, header = header, sep = sep, quote = quote, : no lines available in input\nTraceback:\n",
      "1. readPeakFile(file.i)",
      "2. peak2DF(peakfile, ...)",
      "3. read.delim(peakfile, header = header, comment.char = \"#\", ...)",
      "4. read.table(file = file, header = header, sep = sep, quote = quote, \n .     dec = dec, fill = fill, comment.char = comment.char, ...)",
      "5. stop(\"no lines available in input\")"
     ]
    }
   ],
   "source": [
    "for (file.i in input.peak.files){\n",
    "    if (!(file.i %in% attempted)) {\n",
    "        attempted <- c(attempted, file.i)\n",
    "        i <- gsub(\"_peaks.narrowPeak.chr.bed\",\"\", basename(file.i))\n",
    "        print(\"-----------\")\n",
    "        print(i)\n",
    "        peak.i <- readPeakFile(file.i)\n",
    "        \n",
    "        if (length(peak.i@ranges@start) > 200) {\n",
    "            #----- Coverage\n",
    "            #print(\"Coverage\")\n",
    "            #covplot.i <- covplot(peak.i, weightCol=\"V5\")\n",
    "            #plot.name.i <- file.path(out.dir, paste(i, \"covPlot.png\", sep=\"_\"))\n",
    "            #ggsave(plot.name.i, covplot.i, device='png', scale=2)\n",
    "\n",
    "            #----- TagMatrix\n",
    "            #print(\"TagMatrix\")\n",
    "            #tagMatrix.i <- getTagMatrix(peak.i, windows=promoter)\n",
    "\n",
    "            #plot.name.i <- file.path(out.dir, paste(i, \"tagMatrix.jpg\", sep=\"_\"))\n",
    "            #jpeg(filename=plot.name.i,width=400,height=600)\n",
    "            #tagHeatmap(tagMatrix.i, xlim=bp.range, color=NULL)\n",
    "            #dev.off()\n",
    "\n",
    "            #----- Average Prof\n",
    "            #avgprof.plot.i <- plotAvgProf(tagMatrix.i, xlim=bp.range, conf=0.95, resample = 1000)\n",
    "            #plot.name.i <- file.path(out.dir, paste(i, \"avgProfPlot.png\", sep=\"_\"))\n",
    "            #ggsave(plot.name.i, avgprof.plot.i, device='png', scale=1)\n",
    "\n",
    "            #----- Peak Annotation\n",
    "            print(\"Peak Annotation\")\n",
    "            peakAnno <- annotatePeak(file.i, tssRegion=bp.range, TxDb=txdb, annoDb=\"org.Mm.eg.db\")\n",
    "            peakAnno.df <- as.data.frame(peakAnno)\n",
    "            df.name.i <- file.path(out.dir, paste(i, \"annoDf.csv\", sep=\"_\"))\n",
    "            write_csv(peakAnno.df, df.name.i)\n",
    "\n",
    "            #----- Annotation Pie Chart\n",
    "            print(\"Annotation Pie Chart\")\n",
    "            plot.name.i <- file.path(out.dir, paste(i, \"annoPiePlot.jpg\", sep=\"_\"))\n",
    "            jpeg(filename=plot.name.i,width=480,height=480)\n",
    "            plotAnnoPie(peakAnno)\n",
    "            dev.off()\n",
    "\n",
    "            #----- Pathway Analysis\n",
    "            print(\"Pathway analysis\")\n",
    "            pathway.i <- enrichPathway(peakAnno.df$geneId, organism='mouse')\n",
    "            df.name.i <- file.path(out.dir, paste(i, \"pathway.csv\", sep=\"_\"))\n",
    "            write_csv(as.data.frame(pathway.i), df.name.i)\n",
    "\n",
    "            pathway.plot.i <- dotplot(pathway.i)\n",
    "            plot.name.i <- file.path(out.dir, paste(i, \"pathwayDotPlot.png\", sep=\"_\"))\n",
    "            ggsave(plot.name.i, pathway.plot.i, device='png', scale=2)\n",
    "        }    \n",
    "    }\n",
    "}"
   ]
  },
  {
   "cell_type": "code",
   "execution_count": null,
   "metadata": {},
   "outputs": [],
   "source": []
  }
 ],
 "metadata": {
  "kernelspec": {
   "display_name": "R",
   "language": "R",
   "name": "ir"
  },
  "language_info": {
   "codemirror_mode": "r",
   "file_extension": ".r",
   "mimetype": "text/x-r-source",
   "name": "R",
   "pygments_lexer": "r",
   "version": "3.6.3"
  }
 },
 "nbformat": 4,
 "nbformat_minor": 4
}
