{
 "cells": [
  {
   "cell_type": "markdown",
   "metadata": {},
   "source": [
    "## Solid sequence conversion\n",
    "[Reference](https://www.biostars.org/p/43855/)\n",
    "\n",
    "AA, CC, GG, TT : 0 <br>\n",
    "AC, CA, GT, TG : 1 <br>\n",
    "AG, CT, GA, TC : 2 <br>\n",
    "AT, CG, GC, TA : 3\n"
   ]
  },
  {
   "cell_type": "code",
   "execution_count": 55,
   "metadata": {},
   "outputs": [],
   "source": [
    "import csv\n",
    "import pandas as pd\n",
    "import glob\n",
    "import math\n",
    "from pathlib import Path"
   ]
  },
  {
   "cell_type": "code",
   "execution_count": 63,
   "metadata": {},
   "outputs": [],
   "source": [
    "hpc_codes_dir = \"/Volumes/Huitian/Projects/T_Cell_ChIP/codes_hpc\"\n",
    "\n",
    "#--- Get list of sra files, retrive Run IDs\n",
    "sra_dir = \"/Volumes/Huitian/Projects/T_Cell_ChIP/202012_ChIP/1_SRA_Run_Table_simplified\"\n",
    "solid_file = sra_dir + \"/2015_IMMUNITY_Martinez_simplified.csv\"\n",
    "solid_srr = pd.read_csv(solid_file)['Run'].tolist()\n",
    "solid_layout = pd.read_csv(solid_file)['LibraryLayout'].tolist()"
   ]
  },
  {
   "cell_type": "code",
   "execution_count": 66,
   "metadata": {},
   "outputs": [],
   "source": [
    "#--- Write Hpc script\n",
    "out_file = \"0_1_solid_to_fastq\"\n",
    "out_dir = hpc_codes_dir + \"/\" + out_file\n",
    "Path(out_dir).mkdir(parents=True, exist_ok=True)\n",
    "\n",
    "hpc_wkdir = \"/gpfs/group/pipkin/hdiao/T_Cell_ChIP/0_fastq\"\n",
    "tool_dir = \"/gpfs/group/pipkin/hdiao/T_Cell_ChIP/codes_hpc/0_1_solid_to_fastq/solid_to_fastq.py\"\n",
    "for i in range(0, len(solid_srr)):\n",
    "    i_outname = \"%s/%s-%s.sh\"%(out_dir, out_file,i)\n",
    "    i_srr = solid_srr[i]\n",
    "    i_layout = solid_layout[i]\n",
    "    with open(i_outname, \"w\") as fout:\n",
    "        wfout = csv.writer(fout, delimiter=\"\\t\",lineterminator='\\n')\n",
    "        wfout.writerow([\"#!/bin/bash\"])\n",
    "        wfout.writerow([])\n",
    "        wfout.writerow([\"module load python\"])\n",
    "        wfout.writerow([\"cd %s\"%hpc_wkdir])\n",
    "        wfout.writerow([])\n",
    "        wfout.writerow([\"python %s %s_1.fastq\"%(tool_dir, i_srr)])\n",
    "        if i_layout == \"PAIRED\":\n",
    "            wfout.writerow([\"python %s %s_2.fastq\"%(tool_dir, i_srr)])\n",
    "        "
   ]
  },
  {
   "cell_type": "code",
   "execution_count": null,
   "metadata": {},
   "outputs": [],
   "source": []
  }
 ],
 "metadata": {
  "kernelspec": {
   "display_name": "Python 3",
   "language": "python",
   "name": "python3"
  },
  "language_info": {
   "codemirror_mode": {
    "name": "ipython",
    "version": 3
   },
   "file_extension": ".py",
   "mimetype": "text/x-python",
   "name": "python",
   "nbconvert_exporter": "python",
   "pygments_lexer": "ipython3",
   "version": "3.6.8"
  }
 },
 "nbformat": 4,
 "nbformat_minor": 4
}
