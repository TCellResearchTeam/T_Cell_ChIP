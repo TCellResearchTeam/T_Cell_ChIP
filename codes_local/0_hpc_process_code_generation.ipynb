{
 "cells": [
  {
   "cell_type": "code",
   "execution_count": 1,
   "metadata": {},
   "outputs": [],
   "source": [
    "import csv\n",
    "import pandas as pd\n",
    "import glob\n",
    "import math"
   ]
  },
  {
   "cell_type": "markdown",
   "metadata": {},
   "source": [
    "## fastq dump"
   ]
  },
  {
   "cell_type": "code",
   "execution_count": 10,
   "metadata": {},
   "outputs": [],
   "source": [
    "#--- Get list of sra files, retrive Run IDs\n",
    "sra_dir = \"/Volumes/Huitian/Projects/T_Cell_ChIP/202012_ChIP/1_SRA_Run_Table_simplified\"\n",
    "sra_files = glob.glob(\"%s/*.csv\"%sra_dir)\n",
    "\n",
    "srr_list = []\n",
    "for file in sra_files:\n",
    "    srr_list += pd.read_csv(file)['Run'].tolist()\n",
    "\n",
    "#--- Write Hpc script\n",
    "out_file = \"0_0_fastq-dump\"\n",
    "out_dir = \"/Volumes/Huitian/Projects/T_Cell_ChIP/codes_hpc\"\n",
    "\n",
    "hpc_wkdir = \"/gpfs/group/pipkin/hdiao/T_Cell_ChIP/0_fastq\"\n",
    "# Write one script for every 16 files\n",
    "for i in range(0, math.ceil(len(srr_list)/16)):\n",
    "    i_outname = \"%s/%s-%s.sh\"%(out_dir, out_file,i)\n",
    "    with open(i_outname, \"w\") as fout:\n",
    "        wfout = csv.writer(fout, delimiter=\"\\t\",lineterminator='\\n')\n",
    "        wfout.writerow([\"#!/bin/bash\"])\n",
    "        wfout.writerow([\"#SBATCH --nodes=1\"])\n",
    "        wfout.writerow([\"#SBATCH --ntasks=8\"])\n",
    "        wfout.writerow([\"#SBATCH --mem=16gb\"])\n",
    "        wfout.writerow([])\n",
    "        wfout.writerow([\"module load sra-tools\"])\n",
    "        wfout.writerow([\"cd %s\"%hpc_wkdir])\n",
    "        wfout.writerow([])\n",
    "        \n",
    "        for j in range(i*16,min((i+1) * 16, len(srr_list))):\n",
    "            j_srr = srr_list[j]\n",
    "            if ((j+1) % 8 != 0) and (j < min((i+1) * 16, len(srr_list))-1):\n",
    "                wfout.writerow([\"fastq-dump -I --split-files %s &\"%j_srr])\n",
    "            elif j < min((i+1) * 16, len(srr_list))-1:\n",
    "                wfout.writerow([\"fastq-dump -I --split-files %s \"%j_srr])\n",
    "                wfout.writerow([\"wait\"])\n",
    "            else:\n",
    "                wfout.writerow([\"fastq-dump -I --split-files %s \"%j_srr])"
   ]
  },
  {
   "cell_type": "code",
   "execution_count": null,
   "metadata": {},
   "outputs": [],
   "source": []
  }
 ],
 "metadata": {
  "kernelspec": {
   "display_name": "Python 3",
   "language": "python",
   "name": "python3"
  },
  "language_info": {
   "codemirror_mode": {
    "name": "ipython",
    "version": 3
   },
   "file_extension": ".py",
   "mimetype": "text/x-python",
   "name": "python",
   "nbconvert_exporter": "python",
   "pygments_lexer": "ipython3",
   "version": "3.6.8"
  }
 },
 "nbformat": 4,
 "nbformat_minor": 4
}
